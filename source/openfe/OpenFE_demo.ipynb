{
 "cells": [
  {
   "cell_type": "markdown",
   "id": "42aff1cb-6ca3-4261-8c56-9a441b5f3a1d",
   "metadata": {
    "slideshow": {
     "slide_type": "slide"
    },
    "tags": []
   },
   "source": [
    "<h1><center>OMSF 2024: OpenFE Demo</center></h1>"
   ]
  },
  {
   "cell_type": "markdown",
   "id": "a407bb35",
   "metadata": {},
   "source": [
    "<center><i><b>Exploring MCL-1 fragment RBFEs using OpenFE</b></i></center>\n",
    "<br/><br/>"
   ]
  },
  {
   "cell_type": "markdown",
   "id": "7144ae82",
   "metadata": {
    "slideshow": {
     "slide_type": "slide"
    },
    "tags": []
   },
   "source": [
    "<h2><center>Tutorial Overview</center></h2>"
   ]
  },
  {
   "cell_type": "markdown",
   "id": "6363dd96",
   "metadata": {
    "cell_style": "split",
    "slideshow": {
     "slide_type": "-"
    },
    "tags": []
   },
   "source": [
    "This tutorial demonstrates how to set up and run a network of **Relative Binding Free Energy (RBFE)** calculations using the OpenFE toolkit.\n",
    "\n",
    "Specifically we cover:\n",
    "* Loading and defining systems\n",
    "* Atom mapping and network creation\n",
    "* Creating & running RBFE simulations\n",
    "* Analyzing free energy results\n",
    "* Using the Python & CLI interfaces"
   ]
  },
  {
   "cell_type": "markdown",
   "id": "50978b42",
   "metadata": {
    "cell_style": "split",
    "scrolled": true,
    "slideshow": {
     "slide_type": "-"
    }
   },
   "source": [
    "![rbfe_cycle](images/rbfe_thermocycle.png)"
   ]
  },
  {
   "cell_type": "markdown",
   "id": "f56c7bcf",
   "metadata": {
    "slideshow": {
     "slide_type": "slide"
    }
   },
   "source": [
    "<h2><center>Test case: MCL-1 Fragments</center></h2>"
   ]
  },
  {
   "cell_type": "markdown",
   "id": "1016cf0d-9609-4936-aed7-8e9ae3976131",
   "metadata": {
    "cell_style": "split",
    "slideshow": {
     "slide_type": "-"
    }
   },
   "source": [
    "* A set of **14 fragment** elaborations from a screen by *Friberg et al., J. Med Chem. 2013*.\n",
    "\n",
    "* Part of the FEP+ fragment study by *Steinbrecher et al. J. Chem. Inf. Model 2015*\n",
    "\n",
    "<center><img src=\"images/mcl1_frag_elaboration.png\"/></center>"
   ]
  },
  {
   "cell_type": "markdown",
   "id": "33f3b932",
   "metadata": {
    "cell_style": "split",
    "slideshow": {
     "slide_type": "-"
    }
   },
   "source": [
    "<center><img src=\"images/mcl1_site_crop.png\"/></center>"
   ]
  },
  {
   "cell_type": "markdown",
   "id": "329abd9a",
   "metadata": {
    "slideshow": {
     "slide_type": "slide"
    }
   },
   "source": [
    "<h2><center>Inspecting the Ligands</center></h2>"
   ]
  },
  {
   "cell_type": "code",
   "execution_count": null,
   "id": "852bb95a",
   "metadata": {
    "cell_style": "center",
    "slideshow": {
     "slide_type": "-"
    }
   },
   "outputs": [],
   "source": [
    "from rdkit import Chem\n",
    "from rdkit.Chem import AllChem, Draw\n",
    "\n",
    "# Extract SDF contents, generate 2D coords (note: non-aligned scaffold!)\n",
    "ligand_rdmols = [m for m in Chem.SDMolSupplier('ligands.sdf', removeHs=False)]\n",
    "[AllChem.Compute2DCoords(ligand) for ligand in ligand_rdmols]\n",
    "\n",
    "Chem.Draw.MolsToGridImage(ligand_rdmols, molsPerRow=5, subImgSize=(500,200))"
   ]
  },
  {
   "cell_type": "markdown",
   "id": "617c0570",
   "metadata": {
    "slideshow": {
     "slide_type": "slide"
    }
   },
   "source": [
    "<h2><center>The RBFE workflow</center></h2>"
   ]
  },
  {
   "cell_type": "markdown",
   "id": "1f37eab3",
   "metadata": {
    "cell_style": "split",
    "slideshow": {
     "slide_type": "-"
    }
   },
   "source": [
    "| **Step** | **External Tooling Used** |\n",
    "|:---------|:----------------|\n",
    "| 1. Creating OpenFE Components | RDKit, OpenMM, OpenFF |\n",
    "| 2. Generating Atom Mappings | Kartograf, RDKit |\n",
    "| 3. Creating a Ligand Network | Lomap, Networkx |\n",
    "| 4. Defining a network of RBFE Alchemical Transformations | |\n",
    "| 5. Running the simulations | OpenMM, OpenMMTools, Perses, OpenFF |\n",
    "| 6. Gathering results | OpenMMTools, PyMBAR |\n",
    "| 7. Analysis | Cinnabar, Matplotlib |"
   ]
  },
  {
   "cell_type": "markdown",
   "id": "89243c02",
   "metadata": {
    "cell_style": "split"
   },
   "source": [
    "<center><img src=\"images/RBFE_overview.png\"/></center>"
   ]
  },
  {
   "cell_type": "markdown",
   "id": "cc9eec1c",
   "metadata": {
    "slideshow": {
     "slide_type": "slide"
    }
   },
   "source": [
    "<h2><center>OpenFE Components</center></h2>"
   ]
  },
  {
   "cell_type": "code",
   "execution_count": null,
   "id": "6416e4d3",
   "metadata": {
    "cell_style": "split"
   },
   "outputs": [],
   "source": [
    "import openfe\n",
    "from openff.units import unit\n",
    "\n",
    "# ProteinComponent\n",
    "protein = openfe.ProteinComponent.from_pdb_file(\n",
    "    'protein.pdb'\n",
    ")\n",
    "\n",
    "# SolventComponent\n",
    "solvent = openfe.SolventComponent(\n",
    "    positive_ion='Na', negative_ion='Cl',\n",
    "    neutralize=True,\n",
    "    ion_concentration=0.15*unit.nanomolar\n",
    ")\n",
    "\n",
    "# Ligands\n",
    "ligand_mols = [\n",
    "    openfe.SmallMoleculeComponent(sdf)\n",
    "    for sdf in Chem.SDMolSupplier(\n",
    "        'ligands.sdf', removeHs=False\n",
    "    )\n",
    "]"
   ]
  },
  {
   "cell_type": "markdown",
   "id": "3a7b8d6e",
   "metadata": {
    "cell_style": "split"
   },
   "source": [
    "<center><img src=\"images/OpenFEComponents.png\"/></center>"
   ]
  },
  {
   "cell_type": "markdown",
   "id": "f037e30d",
   "metadata": {
    "slideshow": {
     "slide_type": "slide"
    }
   },
   "source": [
    "<h2><center>Mapping Ligands</center></h2>"
   ]
  },
  {
   "cell_type": "markdown",
   "id": "23f5b566",
   "metadata": {
    "cell_style": "split"
   },
   "source": [
    "An atom mapping defines the atoms being mutated (and how) during the alchemical transformation.\n",
    "\n",
    "* Uncoloured atoms: \"mapped same elements\"\n",
    "* Blue atoms: \"mapped different elements\"\n",
    "* Red atoms: \"endstate dummy atoms\"\n",
    "\n",
    "In OpenFE we currently have two atom mappers:\n",
    "1. `LomapAtomMapper` (MCS-based)\n",
    "\n",
    "2. `KartografAtomMapper` (Geometry-based)"
   ]
  },
  {
   "cell_type": "code",
   "execution_count": null,
   "id": "cdb85dab",
   "metadata": {
    "cell_style": "split"
   },
   "outputs": [],
   "source": [
    "from kartograf import KartografAtomMapper\n",
    "\n",
    "mapper = KartografAtomMapper(atom_map_hydrogens=False)\n",
    "\n",
    "atom_mapping = next(\n",
    "    mapper.suggest_mappings(\n",
    "        ligand_mols[0], ligand_mols[-1]\n",
    "    )\n",
    ")\n",
    "\n",
    "atom_mapping"
   ]
  },
  {
   "cell_type": "markdown",
   "id": "2d38d219",
   "metadata": {
    "slideshow": {
     "slide_type": "slide"
    }
   },
   "source": [
    "<h2><center>Mapping Ligands</center></h2>"
   ]
  },
  {
   "cell_type": "markdown",
   "id": "70e5275b",
   "metadata": {
    "cell_style": "split"
   },
   "source": [
    "We can also visualize the mappings in 3D!\n",
    "\n",
    "*Note: atoms that have the same sphere color in both end states are mapped (i.e. will be transformed into dummy atoms in the opposite end state), whilst those without spheres are unmaped!*"
   ]
  },
  {
   "cell_type": "code",
   "execution_count": null,
   "id": "c35bfceb",
   "metadata": {
    "cell_style": "split"
   },
   "outputs": [],
   "source": [
    "from openfe.utils import visualization_3D\n",
    "\n",
    "visualization_3D.view_mapping_3d(atom_mapping)"
   ]
  },
  {
   "cell_type": "markdown",
   "id": "15c297fa",
   "metadata": {
    "slideshow": {
     "slide_type": "slide"
    }
   },
   "source": [
    "<h2><center>Ligand Transformation Networks</center></h2>"
   ]
  },
  {
   "cell_type": "markdown",
   "id": "a38a7b48",
   "metadata": {
    "cell_style": "split"
   },
   "source": [
    "We can use a mapper and a mapping scorer (e.g. `default_lomap_score`) to plan transformation networks between ligands of interest.\n",
    "\n",
    "OpenFE can create various networks, including:\n",
    "* Minimum Spanning Tree networks (MST)\n",
    "* LOMAP networks\n",
    "* Radial networks\n",
    "* Loading external networks (e.g. FEP+)\n",
    "* And many more using Konnektor!"
   ]
  },
  {
   "cell_type": "code",
   "execution_count": null,
   "id": "0f258678",
   "metadata": {
    "cell_style": "split"
   },
   "outputs": [],
   "source": [
    "from openfe.setup.ligand_network_planning import (\n",
    "    generate_lomap_network,\n",
    "    generate_minimal_spanning_network,\n",
    "    generate_radial_network,\n",
    ")\n",
    "from openfe import lomap_scorers\n",
    "\n",
    "# Creating a Lomap network\n",
    "lomap_network = generate_lomap_network(\n",
    "    molecules=ligand_mols,\n",
    "    scorer=lomap_scorers.default_lomap_score,\n",
    "    mappers=[KartografAtomMapper()]\n",
    ")\n",
    "\n",
    "# Creating an MST network\n",
    "mst_network = generate_minimal_spanning_network(\n",
    "    ligands=ligand_mols,\n",
    "    scorer=lomap_scorers.default_lomap_score,\n",
    "    mappers=[KartografAtomMapper()]\n",
    ")"
   ]
  },
  {
   "cell_type": "code",
   "execution_count": null,
   "id": "fe554fec",
   "metadata": {
    "slideshow": {
     "slide_type": "subslide"
    }
   },
   "outputs": [],
   "source": [
    "# A network is a collecting of mappings\n",
    "\n",
    "mst_edges = [edge for edge in mst_network.edges]\n",
    "\n",
    "print(\"atom mapping: \", mst_edges[0].componentA_to_componentB)\n",
    "\n",
    "mst_edges[0]"
   ]
  },
  {
   "cell_type": "code",
   "execution_count": null,
   "id": "b1a5a200",
   "metadata": {
    "slideshow": {
     "slide_type": "subslide"
    }
   },
   "outputs": [],
   "source": [
    "# We can visualize the networks too!\n",
    "# Note: small visual artifact bug to be fixed ;)\n",
    "\n",
    "from openfe.utils.atommapping_network_plotting import plot_atommapping_network\n",
    "\n",
    "plot_atommapping_network(lomap_network)"
   ]
  },
  {
   "cell_type": "code",
   "execution_count": null,
   "id": "9c77f39d",
   "metadata": {
    "slideshow": {
     "slide_type": "subslide"
    }
   },
   "outputs": [],
   "source": [
    "plot_atommapping_network(mst_network)"
   ]
  },
  {
   "cell_type": "markdown",
   "id": "7fec2c3f",
   "metadata": {
    "slideshow": {
     "slide_type": "slide"
    }
   },
   "source": [
    "<h2><center>Creating an RBFE cycle</center></h2>"
   ]
  },
  {
   "cell_type": "markdown",
   "id": "d9b66d07",
   "metadata": {
    "cell_style": "split",
    "slideshow": {
     "slide_type": "-"
    }
   },
   "source": [
    "For each edge in our ligand network we can define a set of simulations to allow us to recover the **binding free energy**.\n",
    "\n",
    "To do this we need to define:\n",
    "  - 2 solvent states\n",
    "  - 2 complex states\n",
    "  - A state transformation simulation protocol"
   ]
  },
  {
   "cell_type": "markdown",
   "id": "73ff8246",
   "metadata": {
    "cell_style": "split",
    "slideshow": {
     "slide_type": "-"
    }
   },
   "source": [
    "![rbfe_cycle](images/rbfe_thermocycle.png)"
   ]
  },
  {
   "cell_type": "markdown",
   "id": "99410d49",
   "metadata": {
    "slideshow": {
     "slide_type": "slide"
    }
   },
   "source": [
    "<h2><center>Defining end states</center></h2>"
   ]
  },
  {
   "cell_type": "markdown",
   "id": "25670e79",
   "metadata": {
    "cell_style": "split"
   },
   "source": [
    "* `ChemicalSystems` can be defined for each end state of the cycle.\n",
    "\n",
    "* These define the `Components` making up each state.\n",
    "\n",
    "* Free energy Protocols take multiple ChemicalSystems to define the transformation being simulated."
   ]
  },
  {
   "cell_type": "markdown",
   "id": "020e07e0",
   "metadata": {
    "cell_style": "split"
   },
   "source": [
    "![rbfe_cycle](images/rbfe_thermocycle.png)"
   ]
  },
  {
   "cell_type": "markdown",
   "id": "3fa30bef",
   "metadata": {
    "slideshow": {
     "slide_type": "slide"
    }
   },
   "source": [
    "<h2><center>Defining end states</center></h2>"
   ]
  },
  {
   "cell_type": "code",
   "execution_count": null,
   "id": "96893e28",
   "metadata": {
    "cell_style": "split",
    "slideshow": {
     "slide_type": "-"
    }
   },
   "outputs": [],
   "source": [
    "# Selecting a specific edge\n",
    "edge = mst_edges[0]\n",
    "\n",
    "# Components are collated into ChemicalSystems\n",
    "ligand_A_complex = openfe.ChemicalSystem(\n",
    "    {'ligand': edge.componentA,\n",
    "     'protein': protein,\n",
    "     'solvent': solvent}\n",
    ")\n",
    "\n",
    "ligand_A_solvent = openfe.ChemicalSystem(\n",
    "    {'ligand': edge.componentA,\n",
    "     'solvent': solvent}\n",
    ")\n",
    "\n",
    "ligand_B_complex = openfe.ChemicalSystem(\n",
    "    {'ligand': edge.componentB,\n",
    "     'protein': protein,\n",
    "     'solvent': solvent}\n",
    ")\n",
    "\n",
    "ligand_B_solvent = openfe.ChemicalSystem(\n",
    "    {'ligand': edge.componentB,\n",
    "     'solvent': solvent}\n",
    ")"
   ]
  },
  {
   "cell_type": "code",
   "execution_count": null,
   "id": "a4a7ed6b",
   "metadata": {
    "cell_style": "split",
    "slideshow": {
     "slide_type": "-"
    }
   },
   "outputs": [],
   "source": [
    "# We can inspect the equality of these\n",
    "# ChemicalSystems to identify differences\n",
    "\n",
    "another_complex = openfe.ChemicalSystem(\n",
    "    {'ligand': edge.componentA,\n",
    "     'protein': protein,\n",
    "     'solvent': solvent}\n",
    ")\n",
    "\n",
    "print(ligand_A_complex == another_complex)\n",
    "\n",
    "print(ligand_A_complex == ligand_B_complex)\n"
   ]
  },
  {
   "cell_type": "markdown",
   "id": "78c5b6ef",
   "metadata": {
    "slideshow": {
     "slide_type": "slide"
    }
   },
   "source": [
    "<h2><center>Creating a simulation Protocol</center></h2>"
   ]
  },
  {
   "cell_type": "markdown",
   "id": "58e58c96",
   "metadata": {
    "cell_style": "split",
    "slideshow": {
     "slide_type": "-"
    }
   },
   "source": [
    "An OpenFE **Protocol** defines how a simulation will take place.\n",
    "\n",
    "Here we use the `RelativeHybridTopologyProtocol`, based on Perses, which:\n",
    "  * Uses a hybrid topology approach\n",
    "  * Allows for equilibrium samplers; HREX, SAMS, and independent windows\n",
    "  * Uses OpenMM as a simulation engine"
   ]
  },
  {
   "cell_type": "code",
   "execution_count": null,
   "id": "c2256377",
   "metadata": {
    "cell_style": "split",
    "slideshow": {
     "slide_type": "-"
    }
   },
   "outputs": [],
   "source": [
    "from openfe.protocols.openmm_rfe import (\n",
    "    RelativeHybridTopologyProtocol\n",
    ")\n",
    "\n",
    "# Protocols require settings, each has a default set\n",
    "settings = RelativeHybridTopologyProtocol.default_settings()\n",
    "\n",
    "# We can get the FF version\n",
    "print(settings.forcefield_settings.small_molecule_forcefield)\n",
    "\n",
    "# We can set the FF version\n",
    "settings.forcefield_settings.small_molecule_forcefield = 'openff-2.2'\n",
    "print(settings.forcefield_settings.small_molecule_forcefield)"
   ]
  },
  {
   "cell_type": "markdown",
   "id": "9f4bf2c5",
   "metadata": {
    "slideshow": {
     "slide_type": "slide"
    }
   },
   "source": [
    "<h2><center>Creating a simulation Protocol</center></h2>"
   ]
  },
  {
   "cell_type": "markdown",
   "id": "92d1ec69",
   "metadata": {
    "cell_style": "split",
    "slideshow": {
     "slide_type": "-"
    }
   },
   "source": [
    "* **Protocol** objects are created from their settings and are immutable.\n",
    "\n",
    "* **Protocol** objects define how to apply a Transformation to a set of input ChemicalSystems & atom mappings.\n",
    "\n",
    "* **Protocol** objects can be re-used to define multiple simulations."
   ]
  },
  {
   "cell_type": "code",
   "execution_count": null,
   "id": "5476ea8b",
   "metadata": {
    "cell_style": "split",
    "slideshow": {
     "slide_type": "-"
    }
   },
   "outputs": [],
   "source": [
    "# Creating a Protocol for our RBFE simulations\n",
    "\n",
    "rbfe_protocol = RelativeHybridTopologyProtocol(\n",
    "    settings=settings\n",
    ")"
   ]
  },
  {
   "cell_type": "markdown",
   "id": "3ebc1762",
   "metadata": {
    "slideshow": {
     "slide_type": "slide"
    }
   },
   "source": [
    "<h2><center>Creating Transformations</center></h2>"
   ]
  },
  {
   "cell_type": "markdown",
   "id": "86804f88",
   "metadata": {
    "cell_style": "split"
   },
   "source": [
    "With `ChemicalSystem`s and a `Protocol` defined, we can create a set of `Transformation`s for our RBFE cycle.\n",
    "\n",
    "A `Transformation` contains everything necessary to run a single simulation. For our chosen RFE Protocol this requires:\n",
    "  * Two `ChemicalSystem` defining the end states\n",
    "  * An atom mapping between the transforming ligands\n",
    "  * A `Protocol` object\n",
    "  * A name (optional)"
   ]
  },
  {
   "cell_type": "code",
   "execution_count": null,
   "id": "a9116a63",
   "metadata": {
    "cell_style": "split"
   },
   "outputs": [],
   "source": [
    "transformation_complex = openfe.Transformation(\n",
    "    stateA=ligand_A_complex,\n",
    "    stateB=ligand_B_complex,\n",
    "    mapping=edge,\n",
    "    protocol=rbfe_protocol,\n",
    "    name=\"A_to_B_transformation_complex\"\n",
    ")\n",
    "\n",
    "transformation_solvent = openfe.Transformation(\n",
    "    stateA=ligand_A_solvent,\n",
    "    stateB=ligand_B_solvent,\n",
    "    mapping=edge,\n",
    "    protocol=rbfe_protocol,\n",
    "    name=\"A_to_B_transformation_solvent\"\n",
    ")"
   ]
  },
  {
   "cell_type": "markdown",
   "id": "a9a61399",
   "metadata": {
    "slideshow": {
     "slide_type": "slide"
    }
   },
   "source": [
    "<h2><center>Saving Transformations</center></h2>"
   ]
  },
  {
   "cell_type": "markdown",
   "id": "d694a39c",
   "metadata": {
    "cell_style": "split"
   },
   "source": [
    "`Transformation`s can then be saved to file (JSON) for execution at a later date.\n",
    "\n",
    "Executing a `Transformation` (see later) will yield a free energy estimate for that leg of the thermodynamic cycle."
   ]
  },
  {
   "cell_type": "code",
   "execution_count": null,
   "id": "3ed1de4e",
   "metadata": {
    "cell_style": "split"
   },
   "outputs": [],
   "source": [
    "import pathlib\n",
    "\n",
    "out_dir = pathlib.Path(\"single_transform\")\n",
    "out_dir.mkdir(exist_ok=True)\n",
    "\n",
    "transformation_complex.dump(\n",
    "    out_dir / f\"{transformation_complex.name}.json\"\n",
    ")\n",
    "\n",
    "transformation_solvent.dump(\n",
    "    out_dir / f\"{transformation_solvent.name}.json\"\n",
    ")"
   ]
  },
  {
   "cell_type": "markdown",
   "id": "323e67e9",
   "metadata": {
    "slideshow": {
     "slide_type": "slide"
    }
   },
   "source": [
    "<h2><center>Networks of Transformations (AlchemicalNetworks)</center></h2>"
   ]
  },
  {
   "cell_type": "markdown",
   "id": "cbc2b966",
   "metadata": {
    "cell_style": "split",
    "slideshow": {
     "slide_type": "-"
    }
   },
   "source": [
    "We can create `AlchemicalNetwork`s which contain all the `Transformation` for all the simulations necessary for a network of RBFE calculations."
   ]
  },
  {
   "cell_type": "code",
   "execution_count": null,
   "id": "390a77d5",
   "metadata": {
    "cell_style": "split",
    "slideshow": {
     "slide_type": "-"
    }
   },
   "outputs": [],
   "source": [
    "transformations = []\n",
    "for mapping in mst_network.edges:\n",
    "    for leg in ['solvent', 'complex']:\n",
    "        # use the solvent and protein created above\n",
    "        sysA_dict = {'ligand': mapping.componentA,\n",
    "                     'solvent': solvent}\n",
    "        sysB_dict = {'ligand': mapping.componentB,\n",
    "                     'solvent': solvent}\n",
    "        \n",
    "        if leg == 'complex':\n",
    "            sysA_dict['protein'] = protein\n",
    "            sysB_dict['protein'] = protein\n",
    "        \n",
    "        sysA = openfe.ChemicalSystem(sysA_dict)\n",
    "        sysB = openfe.ChemicalSystem(sysB_dict)\n",
    "        \n",
    "        name = (f\"{leg}_{mapping.componentA.name}_\"\n",
    "                f\"{mapping.componentA.name}\")\n",
    "        \n",
    "        transformation = openfe.Transformation(\n",
    "            stateA=sysA,\n",
    "            stateB=sysB,\n",
    "            mapping={'ligand': mapping},\n",
    "            protocol=rbfe_protocol,\n",
    "            name=name\n",
    "        )\n",
    "        transformations.append(transformation)\n",
    "\n",
    "network = openfe.AlchemicalNetwork(transformations)"
   ]
  },
  {
   "cell_type": "code",
   "execution_count": null,
   "id": "be4a81e8",
   "metadata": {
    "cell_style": "center",
    "slideshow": {
     "slide_type": "subslide"
    }
   },
   "outputs": [],
   "source": [
    "# Similarly we can write out all the AlchemicalNetwork\n",
    "# Transformations to disk\n",
    "\n",
    "# first we create the directory\n",
    "transformation_dir = pathlib.Path(\"networktransforms\")\n",
    "transformation_dir.mkdir(exist_ok=True)\n",
    "\n",
    "# then we write out each transformation\n",
    "for transformation in network.edges:\n",
    "    transformation.dump(transformation_dir / f\"{transformation.name}.json\")"
   ]
  },
  {
   "cell_type": "code",
   "execution_count": null,
   "id": "eb89fdcb",
   "metadata": {},
   "outputs": [],
   "source": [
    "!ls networktransforms"
   ]
  },
  {
   "cell_type": "markdown",
   "id": "d11d33de",
   "metadata": {
    "slideshow": {
     "slide_type": "slide"
    }
   },
   "source": [
    "<h2><center>Using the CLI instead</center></h2>"
   ]
  },
  {
   "cell_type": "markdown",
   "id": "23d1fe77",
   "metadata": {
    "cell_style": "center",
    "slideshow": {
     "slide_type": "-"
    }
   },
   "source": [
    "You can instead do all of this using a single line of the CLI!\n",
    "\n",
    "The CLI can be quite convenient when you want to use default options. We are adding the ability to customize things using an optionall YAML file. For now this is limited to selecting atom mapper and network options.\n",
    "\n",
    "*Example YAML settings*:\n",
    "```yaml\n",
    "mapper:\n",
    "  method: kartograf\n",
    "  \n",
    "network:\n",
    "  method: generate_minimal_spanning_network\n",
    "```"
   ]
  },
  {
   "cell_type": "code",
   "execution_count": null,
   "id": "685e8b14",
   "metadata": {
    "cell_style": "center",
    "slideshow": {
     "slide_type": "slide"
    }
   },
   "outputs": [],
   "source": [
    "!openfe plan-rbfe-network -M ligands.sdf -p protein.pdb -o cli_setup -s settings.yaml"
   ]
  },
  {
   "cell_type": "markdown",
   "id": "156f49f0",
   "metadata": {
    "slideshow": {
     "slide_type": "slide"
    }
   },
   "source": [
    "<h2><center>Running simulations</center></h2>"
   ]
  },
  {
   "cell_type": "markdown",
   "id": "eed95d80",
   "metadata": {},
   "source": [
    "We can run each leg of our simulation using the `quickrun` command.\n",
    "\n",
    "This takes one of the JSON files we wrote, runs the simulation, and writes an output JSON file with the simulation results.\n",
    "\n",
    "```\n",
    "openfe quickrun path/to/transformation.json -o results.json -d working-directory\n",
    "```\n",
    "\n",
    "You can loop over a list of JSON files to run through a network, or distribute your `quickrun` commands over a HPC cluster.\n",
    "\n",
    "**Note:** alternative execution engines can also be used, such as [Alchemiscale](https://github.com/openforcefield/alchemiscale)."
   ]
  },
  {
   "cell_type": "markdown",
   "id": "22a5feac",
   "metadata": {
    "slideshow": {
     "slide_type": "slide"
    }
   },
   "source": [
    "<h2><center>Gathering results</center></h2>"
   ]
  },
  {
   "cell_type": "markdown",
   "id": "f41abd5d",
   "metadata": {},
   "source": [
    "Once complete, the `quickrun` command will create a results JSON file and an accompanying directory with relevant simulation files."
   ]
  },
  {
   "cell_type": "code",
   "execution_count": null,
   "id": "0177ca79",
   "metadata": {},
   "outputs": [],
   "source": [
    "!ls results_jsons/easy_rbfe_ligand_12_solvent_ligand_13_solvent/shared*"
   ]
  },
  {
   "cell_type": "markdown",
   "id": "e1db805f",
   "metadata": {
    "slideshow": {
     "slide_type": "slide"
    }
   },
   "source": [
    "<h2><center>Gathering results</center></h2>"
   ]
  },
  {
   "cell_type": "markdown",
   "id": "0f702aa2",
   "metadata": {},
   "source": [
    "These files include various structure (`.pdb`) and trajectory (`.nc`) files, and outputs from automated analyses.\n",
    "\n",
    "For example we can find a PNG of the MBAR overlap matrix:\n",
    "\n",
    "<center><img src=\"results_jsons/easy_rbfe_ligand_12_solvent_ligand_13_solvent/shared_RelativeHybridTopologyProtocolUnit-be5ac08159a948f58c5b40195b7c777c_attempt_0/mbar_overlap_matrix.png\"/></center>"
   ]
  },
  {
   "cell_type": "markdown",
   "id": "78d751df",
   "metadata": {
    "slideshow": {
     "slide_type": "slide"
    }
   },
   "source": [
    "<h2><center>Gathering results</center></h2>"
   ]
  },
  {
   "cell_type": "markdown",
   "id": "11222361",
   "metadata": {},
   "source": [
    "We can use the `gather` method to extract results directly from our simulations.\n",
    "\n",
    "Here we report the relative binding free energies for each ligand pair, where the estimates and uncertainty are the average and standard deviation of three independent repeat."
   ]
  },
  {
   "cell_type": "code",
   "execution_count": null,
   "id": "b088be26",
   "metadata": {},
   "outputs": [],
   "source": [
    "!openfe gather results_jsons/ --report ddg"
   ]
  },
  {
   "cell_type": "markdown",
   "id": "db81ab35",
   "metadata": {
    "slideshow": {
     "slide_type": "slide"
    }
   },
   "source": [
    "<h2><center>Gathering results</center></h2>"
   ]
  },
  {
   "cell_type": "markdown",
   "id": "de277fa0",
   "metadata": {},
   "source": [
    "There is also an option to get the absolute free energies using Maximum Likelihood Estimation with the [cinnabar](https://github.com/OpenFreeEnergy/cinnabar) toolkit."
   ]
  },
  {
   "cell_type": "code",
   "execution_count": null,
   "id": "285caf2d",
   "metadata": {},
   "outputs": [],
   "source": [
    "!openfe gather results_jsons/ --report dg"
   ]
  },
  {
   "cell_type": "markdown",
   "id": "a4c48e03",
   "metadata": {
    "slideshow": {
     "slide_type": "slide"
    }
   },
   "source": [
    "<h2><center>Gathering results</center></h2>"
   ]
  },
  {
   "cell_type": "markdown",
   "id": "f6a83904",
   "metadata": {},
   "source": [
    "With a little bit of data wrangling with experimental results, and the use of the [cinnabar](https://github.com/OpenFreeEnergy/cinnabar) toolkit, we can plot these results out.\n",
    "\n",
    "By comparison, the 2015 Steinbrecher et al. study yielded very similar results with within error RMSE and R2 values."
   ]
  },
  {
   "cell_type": "markdown",
   "id": "645830ce",
   "metadata": {
    "cell_style": "split"
   },
   "source": [
    "<center><img src=\"mcl1_exp_DDG.png\"/></center>"
   ]
  },
  {
   "cell_type": "markdown",
   "id": "23453a2c",
   "metadata": {
    "cell_style": "split"
   },
   "source": [
    "<center><img src=\"mcl1_exp_DG.png\"/></center>"
   ]
  }
 ],
 "metadata": {
  "celltoolbar": "Slideshow",
  "kernelspec": {
   "display_name": "Python 3 (ipykernel)",
   "language": "python",
   "name": "python3"
  },
  "language_info": {
   "codemirror_mode": {
    "name": "ipython",
    "version": 3
   },
   "file_extension": ".py",
   "mimetype": "text/x-python",
   "name": "python",
   "nbconvert_exporter": "python",
   "pygments_lexer": "ipython3",
   "version": "3.11.9"
  },
  "widgets": {
   "application/vnd.jupyter.widget-state+json": {
    "state": {},
    "version_major": 2,
    "version_minor": 0
   }
  }
 },
 "nbformat": 4,
 "nbformat_minor": 5
}

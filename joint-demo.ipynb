{
 "cells": [
  {
   "cell_type": "markdown",
   "id": "db9ea193",
   "metadata": {},
   "source": [
    "# OMSF 2025: Joint Demo\n"
   ]
  },
  {
   "cell_type": "markdown",
   "id": "a1e468ce",
   "metadata": {},
   "source": [
    "\n",
    "Lets imagine we are we are computational medicinal chemists assisting a project team working on ligand design for a biological target, in this case **MCL1** a protein that is a well established target for oncology. "
   ]
  },
  {
   "cell_type": "markdown",
   "id": "2198fc9a",
   "metadata": {},
   "source": [
    "In the future, we could use OpenFold3 to generate a starting structure for a novel target of interest with a CLI interface - "
   ]
  },
  {
   "cell_type": "code",
   "execution_count": null,
   "id": "08503419",
   "metadata": {},
   "outputs": [],
   "source": [
    "# openfold predict \\\n",
    "#   $INPUT_FASTA_DIR \\\n",
    "#   $TEMPLATE_MMCIF_DIR\n",
    "#   --output_dir $OUTPUT_DIR \\\n",
    "#   --config_preset model_1_ptm \\\n",
    "#   --uniref90_database_path $BASE_DATA_DIR/uniref90/uniref90.fasta \\\n",
    "#   --mgnify_database_path $BASE_DATA_DIR/mgnify/mgy_clusters_2018_12.fa \\\n",
    "#   --pdb70_database_path $BASE_DATA_DIR/pdb70 \\\n",
    "#   --uniclust30_database_path $BASE_DATA_DIR/uniclust30/uniclust30_2018_08/uniclust30_2018_08 \\\n",
    "#   --bfd_database_path $BASE_DATA_DIR/bfd/bfd_metaclust_clu_complete_id30_c90_final_seq.sorted_opt \\\n",
    "#   --model_device \"cuda:0\""
   ]
  },
  {
   "cell_type": "markdown",
   "id": "7c125019",
   "metadata": {},
   "source": [
    "\\- but for now, we'll just use an established crystal structure."
   ]
  },
  {
   "cell_type": "code",
   "execution_count": null,
   "id": "bcad5328",
   "metadata": {},
   "outputs": [],
   "source": [
    "import nglview\n",
    "\n",
    "\n",
    "nglview.show_file(\"source/openfe/protein.pdb\")"
   ]
  },
  {
   "cell_type": "markdown",
   "id": "f940e015",
   "metadata": {},
   "source": [
    "Imagine we've been given a set of ligands as a CSV file of SMILES"
   ]
  },
  {
   "cell_type": "code",
   "execution_count": null,
   "id": "5e3448f9",
   "metadata": {},
   "outputs": [],
   "source": [
    "import pandas\n",
    "\n",
    "\n",
    "design_set = pandas.read_csv(\"source/openadmet/ligands.csv\")\n",
    "design_set"
   ]
  },
  {
   "cell_type": "code",
   "execution_count": null,
   "id": "859f443c",
   "metadata": {},
   "outputs": [],
   "source": [
    "import datamol\n",
    "\n",
    "\n",
    "design_set[\"mol\"] = design_set[\"SMILES\"].apply(datamol.to_mol)\n",
    "datamol.to_image(design_set[\"mol\"])"
   ]
  },
  {
   "cell_type": "code",
   "execution_count": null,
   "id": "fe2f3ad8",
   "metadata": {},
   "outputs": [],
   "source": [
    "!openadmet predict \\\n",
    "    --input-path ./source/openadmet/ligands.csv \\\n",
    "    --input-col SMILES \\\n",
    "    --model-dir ./source/openadmet/cyp3a4_anvil_lgbm \\\n",
    "    --model-dir ./source/openadmet/cyp2d6_anvil_lgbm \\\n",
    "    --model-dir ./source/openadmet/cyp2c9_anvil_lgbm \\\n",
    "    --model-dir ./source/openadmet/cyp1a2_anvil_lgbm \\\n",
    "    --output-path ./predictions.csv"
   ]
  },
  {
   "cell_type": "code",
   "execution_count": null,
   "id": "d072d198",
   "metadata": {},
   "outputs": [],
   "source": [
    "predictions = pandas.read_csv(\"predictions.csv\")\n",
    "predictions.sort_values(\"OADMET_PRED_openadmet-CYP3A4-pchembl-lgbm\", ascending=False)"
   ]
  },
  {
   "cell_type": "code",
   "execution_count": null,
   "id": "d911c8dc",
   "metadata": {},
   "outputs": [],
   "source": [
    "CYP3A4_THRESHOLD = 5.6  # is this actually <=> IC50 of 5 micromolar?\n",
    "\n",
    "mask = predictions[\"OADMET_PRED_openadmet-CYP3A4-pchembl-lgbm\"] < CYP3A4_THRESHOLD"
   ]
  },
  {
   "cell_type": "code",
   "execution_count": null,
   "id": "b16150f4",
   "metadata": {},
   "outputs": [],
   "source": [
    "keep = predictions[mask]\n",
    "keep"
   ]
  },
  {
   "cell_type": "code",
   "execution_count": null,
   "id": "13ec250a",
   "metadata": {},
   "outputs": [],
   "source": [
    "!cat source/openfe/settings.yaml"
   ]
  },
  {
   "cell_type": "code",
   "execution_count": null,
   "id": "954c0bdb",
   "metadata": {},
   "outputs": [],
   "source": [
    "!openfe plan-rbfe-network \\\n",
    "    --protein source/openfe/protein.pdb \\\n",
    "    --molecules source/openfe/ligands_charged.sdf \\\n",
    "    --settings source/openfe/settings.yaml \\\n",
    "    --output-dir rbfe/"
   ]
  },
  {
   "cell_type": "code",
   "execution_count": null,
   "id": "6bc62552",
   "metadata": {},
   "outputs": [],
   "source": [
    "!tree rbfe/"
   ]
  },
  {
   "cell_type": "code",
   "execution_count": null,
   "id": "76f389b8",
   "metadata": {},
   "outputs": [],
   "source": [
    "import openfe\n",
    "from konnektor.visualization import draw_ligand_network"
   ]
  },
  {
   "cell_type": "code",
   "execution_count": null,
   "id": "741fe89a",
   "metadata": {},
   "outputs": [],
   "source": [
    "draw_ligand_network(\n",
    "    openfe.setup.LigandNetwork.from_graphml(open(\"rbfe/ligand_network.graphml\").read()),\n",
    "    node_size=3500,\n",
    ");"
   ]
  },
  {
   "cell_type": "code",
   "execution_count": null,
   "id": "2893f2fe",
   "metadata": {},
   "outputs": [],
   "source": [
    "!#openfe quickrun rbfe/transformations/rbfe_ligand_14_complex_ligand_13_complex.json -o results_complex.json -d working-directory/"
   ]
  },
  {
   "cell_type": "code",
   "execution_count": null,
   "id": "1c7143d4",
   "metadata": {},
   "outputs": [],
   "source": [
    "!openfe gather source/openfe/results_jsons/"
   ]
  },
  {
   "cell_type": "markdown",
   "id": "3e34488e",
   "metadata": {},
   "source": [
    "### Comparing predictions of different CYP models"
   ]
  },
  {
   "cell_type": "code",
   "execution_count": null,
   "id": "78d3037b",
   "metadata": {},
   "outputs": [],
   "source": [
    "import seaborn\n",
    "from matplotlib import pyplot\n",
    "\n",
    "\n",
    "seaborn.kdeplot(data=predictions, fill=True)\n",
    "pyplot.xlabel(\"predicted pChEMBL\")\n",
    "pyplot.title(\"Distribution of predicted pChEMBL values for CYP antitargets\")\n",
    "\n",
    "pyplot.show()"
   ]
  },
  {
   "cell_type": "code",
   "execution_count": null,
   "id": "4ea8d737",
   "metadata": {},
   "outputs": [],
   "source": [
    "CYP1A2_pChEMBL_data = pandas.read_csv(\"./source/openadmet/cyp1a2_chembl_permissive.csv\")\n",
    "CYP1A2_pChEMBL_data[\"target\"] = \"CYP1A2\"\n",
    "CYP3A4_pChEMBL_data = pandas.read_csv(\"./source/openadmet/cyp3a4_chembl_permissive.csv\")\n",
    "CYP3A4_pChEMBL_data[\"target\"] = \"CYP3A4\"\n",
    "CYP2C9_pChEMBL_data = pandas.read_csv(\"./source/openadmet/cyp2c9_chembl_permissive.csv\")\n",
    "CYP2C9_pChEMBL_data[\"target\"] = \"CYP2C9\"\n",
    "CYP2D6_pChEMBL_data = pandas.read_csv(\"./source/openadmet/cyp2d6_chembl_permissive.csv\")\n",
    "CYP2D6_pChEMBL_data[\"target\"] = \"CYP2D6\"\n",
    "\n",
    "combined = pandas.concat(\n",
    "    [\n",
    "        CYP2D6_pChEMBL_data,\n",
    "        CYP2C9_pChEMBL_data,\n",
    "        CYP1A2_pChEMBL_data,\n",
    "        CYP3A4_pChEMBL_data,\n",
    "    ]\n",
    ")"
   ]
  },
  {
   "cell_type": "code",
   "execution_count": null,
   "id": "b1073682",
   "metadata": {},
   "outputs": [],
   "source": [
    "seaborn.kdeplot(combined, x=\"pchembl_value_mean\", hue=\"target\")\n",
    "\n",
    "pyplot.title(\"Distribution of CYP pChEMBL values (ChEMBL 35)\")\n",
    "pyplot.xlabel(\"Target pChEMBL\")\n",
    "\n",
    "pyplot.show()"
   ]
  },
  {
   "cell_type": "markdown",
   "id": "bfdfa844",
   "metadata": {},
   "source": [
    "### More about the OpenFE CLI"
   ]
  },
  {
   "cell_type": "code",
   "execution_count": null,
   "id": "b1ff534e",
   "metadata": {},
   "outputs": [],
   "source": [
    "# https://docs.openfree.energy/en/stable/reference/cli/charge_molecules.html\n",
    "!openfe charge-molecules \\\n",
    "    --molecules source/openfe/ligands.sdf \\\n",
    "    --output out.sdf \\\n",
    "    --n-cores 12"
   ]
  },
  {
   "cell_type": "code",
   "execution_count": null,
   "id": "443ee0be",
   "metadata": {},
   "outputs": [],
   "source": [
    "%%html\n",
    "<img src=\"source/openfe/network_layouts.png\">"
   ]
  },
  {
   "cell_type": "code",
   "execution_count": null,
   "id": "ba559795",
   "metadata": {
    "vscode": {
     "languageId": "html"
    }
   },
   "outputs": [],
   "source": [
    "!cat source/openfe/radial.yaml"
   ]
  },
  {
   "cell_type": "code",
   "execution_count": null,
   "id": "ca2274bb",
   "metadata": {
    "vscode": {
     "languageId": "html"
    }
   },
   "outputs": [],
   "source": [
    "!openfe plan-rbfe-network \\\n",
    "    --protein source/openfe/protein.pdb \\\n",
    "    --molecules source/openfe/ligands_charged.sdf \\\n",
    "    --settings source/openfe/radial.yaml \\\n",
    "    --output-dir radial"
   ]
  },
  {
   "cell_type": "code",
   "execution_count": null,
   "id": "57bfabed",
   "metadata": {
    "vscode": {
     "languageId": "html"
    }
   },
   "outputs": [],
   "source": [
    "draw_ligand_network(\n",
    "    openfe.setup.LigandNetwork.from_graphml(open('radial/ligand_network.graphml').read()),\n",
    "    node_size=3500);"
   ]
  },
  {
   "cell_type": "markdown",
   "id": "1c9c2e63",
   "metadata": {
    "vscode": {
     "languageId": "html"
    }
   },
   "source": [
    "## Cool stuff you can do with OpenFF"
   ]
  },
  {
   "cell_type": "markdown",
   "id": "6800aaed",
   "metadata": {
    "vscode": {
     "languageId": "html"
    }
   },
   "source": [
    "### RDKit to MD simulation in seconds"
   ]
  },
  {
   "cell_type": "code",
   "execution_count": null,
   "id": "354b75b0",
   "metadata": {},
   "outputs": [],
   "source": [
    "from rdkit import Chem\n",
    "\n",
    "\n",
    "rdmol = Chem.MolFromMolFile(\"source/openff/aspirin.sdf\")\n",
    "print(Chem.MolToSmiles(rdmol))\n",
    "Chem.Draw.MolToImage(rdmol)"
   ]
  },
  {
   "cell_type": "code",
   "execution_count": null,
   "id": "be55093d",
   "metadata": {},
   "outputs": [],
   "source": [
    "from openff.toolkit import ForceField\n",
    "\n",
    "from simulate import simulate_and_visualize\n",
    "\n",
    "\n",
    "sage = ForceField(\"openff-2.2.1.offxml\")\n",
    "\n",
    "simulate_and_visualize(rdmol, sage)"
   ]
  },
  {
   "cell_type": "markdown",
   "id": "ebefe578",
   "metadata": {},
   "source": [
    "### Run protein-ligand complexes with Sage + ff14SB"
   ]
  },
  {
   "cell_type": "code",
   "execution_count": null,
   "id": "7dfcf893",
   "metadata": {},
   "outputs": [],
   "source": [
    "from openff.toolkit import Molecule, Topology\n",
    "\n",
    "\n",
    "topology = Topology.from_pdb(\n",
    "    \"source/openff/complex_topology.pdb\",\n",
    "    unique_molecules=[Molecule.from_smiles(\"c12c(Cl)cccc1sc(C(=O)[O-])c(Cl)2\")],\n",
    ")\n",
    "\n",
    "protein = topology.molecule(0)\n",
    "ligand = topology.molecule(1)\n",
    "\n",
    "topology.visualize()"
   ]
  },
  {
   "cell_type": "code",
   "execution_count": null,
   "id": "cd65ceea",
   "metadata": {},
   "outputs": [],
   "source": [
    "import pathlib\n",
    "\n",
    "import openmm.unit\n",
    "from pdbfixer import PDBFixer\n",
    "\n",
    "\n",
    "if not pathlib.Path(\"receptor_solvated.pdb\").exists():\n",
    "    topology.to_file(\"temp.pdb\")\n",
    "    fixer = PDBFixer(\"temp.pdb\")\n",
    "    fixer.addSolvent(\n",
    "        padding=0.5 * openmm.unit.nanometer, ionicStrength=0.15 * openmm.unit.molar\n",
    "    )\n",
    "\n",
    "    with open(\"receptor_solvated.pdb\", \"w\") as f:\n",
    "        openmm.app.PDBFile.writeFile(fixer.topology, fixer.positions, f)\n",
    "\n",
    "solvated_topology = Topology.from_pdb(\n",
    "    \"receptor_solvated.pdb\",\n",
    "    unique_molecules=[ligand],\n",
    ")\n",
    "\n",
    "solvated_topology.visualize()"
   ]
  },
  {
   "cell_type": "code",
   "execution_count": null,
   "id": "68b4e8e3",
   "metadata": {},
   "outputs": [],
   "source": [
    "from openff.interchange import Interchange\n",
    "\n",
    "\n",
    "if not pathlib.Path(\"interchange.json\").exists():\n",
    "    sage_with_ff14sb = ForceField(\n",
    "        \"openff-2.2.1.offxml\", \"ff14sb_off_impropers_0.0.4.offxml\"\n",
    "    )\n",
    "\n",
    "    interchange = sage_with_ff14sb.create_interchange(solvated_topology)\n",
    "\n",
    "    with open(\"interchange.json\", \"w\") as f:\n",
    "        f.write(interchange.json())\n",
    "\n",
    "interchange = Interchange.model_validate_json(open(\"interchange.json\").read())\n",
    "interchange.visualize()"
   ]
  },
  {
   "cell_type": "code",
   "execution_count": null,
   "id": "111bb49c",
   "metadata": {},
   "outputs": [],
   "source": [
    "if not pathlib.Path(\"protein-ligand.dcd\").exists():\n",
    "    integrator = openmm.LangevinMiddleIntegrator(\n",
    "        300 * openmm.unit.kelvin,\n",
    "        1 / openmm.unit.picosecond,\n",
    "        0.002 * openmm.unit.picoseconds,\n",
    "    )\n",
    "\n",
    "    simulation = interchange.to_openmm_simulation(integrator)\n",
    "\n",
    "    simulation.minimizeEnergy(tolerance=100)\n",
    "\n",
    "    dcd_reporter = openmm.app.DCDReporter(\n",
    "        file=\"protein-ligand.dcd\",\n",
    "        reportInterval=100,\n",
    "    )\n",
    "    simulation.reporters.append(dcd_reporter)\n",
    "\n",
    "    # ~1 minute runtime on a modern laptop\n",
    "    simulation.step(1000)"
   ]
  },
  {
   "cell_type": "code",
   "execution_count": null,
   "id": "59bafbb9",
   "metadata": {},
   "outputs": [],
   "source": [
    "import mdtraj\n",
    "\n",
    "\n",
    "nglview.show_mdtraj(\n",
    "    mdtraj.load(\n",
    "        \"protein-ligand.dcd\",\n",
    "        top=mdtraj.Topology.from_openmm(solvated_topology.to_openmm()),\n",
    "    )\n",
    ")"
   ]
  },
  {
   "cell_type": "markdown",
   "id": "c0d88a0c",
   "metadata": {
    "vscode": {
     "languageId": "html"
    }
   },
   "source": [
    "### Simulating post-translational modifications"
   ]
  },
  {
   "cell_type": "markdown",
   "id": "893a6416",
   "metadata": {},
   "source": [
    "What about non-canonical amino acids, or other molecules covalently bound to a protein?"
   ]
  },
  {
   "cell_type": "code",
   "execution_count": null,
   "id": "d2fb3d82",
   "metadata": {},
   "outputs": [],
   "source": [
    "from openff.toolkit import Molecule\n",
    "\n",
    "\n",
    "dye = Molecule.from_file(\"source/openff/maleimide.sdf\")\n",
    "dye.generate_unique_atom_names()\n",
    "dye"
   ]
  },
  {
   "cell_type": "code",
   "execution_count": null,
   "id": "045e8936",
   "metadata": {},
   "outputs": [],
   "source": [
    "from ipywidgets import Image\n",
    "from rdkit.Chem import Draw\n",
    "from rdkit.Chem.rdChemReactions import ReactionFromSmarts\n",
    "\n",
    "\n",
    "thiol_maleimide_click_smarts = (\n",
    "    \"[C:10]-[S:1]-[H:2]\"\n",
    "    + \".\"\n",
    "    + \"[N:3]1-[C:4](=[O:5])-[C:6](-[H:11])=[C:7](-[H:12])-[C:8](=[O:9])-1\"\n",
    "    + \">>\"\n",
    "    + \"[N:3]1-[C:4](=[O:5])-[C:6](-[H:2])(-[H:11])-[C@:7](-[S:1]-[C:10])(-[H:12])-[C:8](=[O:9])-1\"\n",
    ")\n",
    "\n",
    "d2d = Draw.MolDraw2DCairo(800, 300)\n",
    "d2d.DrawReaction(\n",
    "    ReactionFromSmarts(thiol_maleimide_click_smarts),\n",
    "    highlightByReactant=True,\n",
    ")\n",
    "Image(value=d2d.GetDrawingText())"
   ]
  },
  {
   "cell_type": "code",
   "execution_count": null,
   "id": "b73b7901",
   "metadata": {},
   "outputs": [],
   "source": [
    "from openff.pablo import (\n",
    "    CCD_RESIDUE_DEFINITION_CACHE,\n",
    "    ResidueDefinition,\n",
    "    topology_from_pdb,\n",
    ")\n",
    "from openff.pablo.chem import PEPTIDE_BOND\n",
    "\n",
    "from ptm_prototype import react\n",
    "\n",
    "\n",
    "cysteine = CCD_RESIDUE_DEFINITION_CACHE[\"CYS\"][0].to_openff_molecule()\n",
    "\n",
    "products = list(react([cysteine, dye], thiol_maleimide_click_smarts))\n",
    "cysteine_with_dye = products[0][0]\n",
    "name_corrections = {\n",
    "    4: \"H3x\",\n",
    "    25: \"C9x\",\n",
    "    26: \"H4x\",\n",
    "    28: \"C8x\",\n",
    "    29: \"H6x\",\n",
    "    30: \"H5x\",\n",
    "    32: \"C10x\",\n",
    "    33: \"C11x\",\n",
    "    34: \"O2x\",\n",
    "    35: \"O3x\",\n",
    "    36: \"C23x\",\n",
    "    37: \"C12x\",\n",
    "    38: \"C22x\",\n",
    "    39: \"C18x\",\n",
    "    40: \"C13x\",\n",
    "    41: \"C17x\",\n",
    "    42: \"H14x\",\n",
    "    43: \"C21x\",\n",
    "    44: \"C19x\",\n",
    "    45: \"O5x\",\n",
    "    46: \"C14x\",\n",
    "    47: \"H7x\",\n",
    "    49: \"H13x\",\n",
    "    50: \"C20x\",\n",
    "    51: \"H11x\",\n",
    "    52: \"C15x\",\n",
    "    53: \"H8x\",\n",
    "    54: \"H10x\",\n",
    "    55: \"O6x\",\n",
    "}\n",
    "for i, name in name_corrections.items():\n",
    "    cysteine_with_dye.atom(i).name = name\n",
    "\n",
    "cysteine_with_dye.visualize(backend=\"rdkit\")"
   ]
  },
  {
   "cell_type": "code",
   "execution_count": null,
   "id": "33768776",
   "metadata": {},
   "outputs": [],
   "source": [
    "dye_resdef = ResidueDefinition.from_molecule(\n",
    "    molecule=cysteine_with_dye,\n",
    "    residue_name=\"DYE\",\n",
    "    linking_bond=PEPTIDE_BOND,\n",
    ")\n",
    "\n",
    "topology = topology_from_pdb(\n",
    "    \"source/openff/3ip9_dye_solv.pdb\",\n",
    "    residue_database=CCD_RESIDUE_DEFINITION_CACHE.with_({\"DYE\": [dye_resdef]}),\n",
    ")\n",
    "view = topology.visualize()\n",
    "view.clear_representations()\n",
    "view.add_cartoon()\n",
    "view.add_line(opacity=0.5, crossSize=1.0)\n",
    "view.add_licorice(\"DYE\", radius=0.3)\n",
    "view.add_unitcell()\n",
    "view.center(\"DYE\")\n",
    "view"
   ]
  },
  {
   "cell_type": "code",
   "execution_count": null,
   "id": "5794365e",
   "metadata": {},
   "outputs": [],
   "source": [
    "import pathlib\n",
    "\n",
    "from ptm_prototype import parametrize_with_nagl, simulate_and_visualize\n",
    "\n",
    "\n",
    "if not pathlib.Path(\"ptm.dcd\").exists():\n",
    "    sage_ff14sb = ForceField(\"openff-2.2.1.offxml\", \"ff14sb_off_impropers_0.0.4.offxml\")\n",
    "    interchange = parametrize_with_nagl(force_field=sage_ff14sb, topology=topology)\n",
    "\n",
    "    simulate_and_visualize(interchange)"
   ]
  },
  {
   "cell_type": "code",
   "execution_count": null,
   "id": "35a358b8",
   "metadata": {},
   "outputs": [],
   "source": [
    "import mdtraj\n",
    "import nglview\n",
    "\n",
    "\n",
    "trajectory: mdtraj.Trajectory = mdtraj.load(\n",
    "    \"ptm.dcd\", top=mdtraj.Topology.from_openmm(topology.to_openmm())\n",
    ")\n",
    "\n",
    "view = nglview.show_mdtraj(trajectory)\n",
    "\n",
    "view.clear_representations()\n",
    "view.add_cartoon()\n",
    "view.add_line(opacity=0.5, crossSize=1.0)\n",
    "view.add_licorice(\"DYE\", radius=0.3)\n",
    "view.add_unitcell()\n",
    "view.center(\"DYE\")\n",
    "view"
   ]
  },
  {
   "cell_type": "markdown",
   "id": "74a3bf4e",
   "metadata": {
    "vscode": {
     "languageId": "html"
    }
   },
   "source": [
    "### Rapidly charge large ligands with NAGL"
   ]
  },
  {
   "cell_type": "code",
   "execution_count": null,
   "id": "16b91806",
   "metadata": {},
   "outputs": [],
   "source": [
    "from openff.toolkit import Molecule\n",
    "from openff.toolkit.utils.ambertools_wrapper import AmberToolsToolkitWrapper\n",
    "from openff.toolkit.utils.nagl_wrapper import NAGLToolkitWrapper\n",
    "\n",
    "\n",
    "ambertools_wrapper = AmberToolsToolkitWrapper()\n",
    "\n",
    "nagl_wrapper = NAGLToolkitWrapper()\n",
    "nagl_wrapper.assign_partial_charges(\n",
    "    Molecule.from_smiles(\"C\"), \"openff-gnn-am1bcc-0.1.0-rc.3.pt\"\n",
    ")\n",
    "\n",
    "ligands = Molecule.from_file(\"source/openff/ligands.smi\", allow_undefined_stereo=True)\n",
    "\n",
    "datamol.to_image([molecule.to_rdkit() for molecule in ligands])"
   ]
  },
  {
   "cell_type": "code",
   "execution_count": null,
   "id": "3a01f6c7",
   "metadata": {},
   "outputs": [],
   "source": [
    "import pathlib\n",
    "import time\n",
    "\n",
    "\n",
    "def charge_with_nagl(molecule) -> float:\n",
    "    start = time.time()\n",
    "    nagl_wrapper.assign_partial_charges(molecule, \"openff-gnn-am1bcc-0.1.0-rc.3.pt\")\n",
    "    end = time.time()\n",
    "    return end - start\n",
    "\n",
    "\n",
    "def charge_with_ambertools(molecule) -> float:\n",
    "    start = time.time()\n",
    "    ambertools_wrapper.assign_partial_charges(molecule, \"am1bcc\")\n",
    "    end = time.time()\n",
    "    return end - start"
   ]
  },
  {
   "cell_type": "code",
   "execution_count": null,
   "id": "ad176e7e",
   "metadata": {},
   "outputs": [],
   "source": [
    "import pandas\n",
    "\n",
    "\n",
    "if not pathlib.Path(\"nagl_timings.csv\").exists():\n",
    "    nagl_timings = pandas.DataFrame(columns=[\"n_atoms\", \"SMILES\", \"time\"])\n",
    "\n",
    "    for molecule in ligands:\n",
    "        nagl_timings.loc[len(nagl_timings)] = (\n",
    "            molecule.n_atoms,\n",
    "            molecule.to_smiles(),\n",
    "            charge_with_nagl(molecule),\n",
    "        )\n",
    "\n",
    "    # for molecule in Molecule.from_file(\"source/openff/MiniDrugBank.sdf\")[:10]:\n",
    "    #    nagl_timings.loc[len(nagl_timings)] = (molecule.n_atoms, charge_with_nagl(molecule))\n",
    "\n",
    "if not pathlib.Path(\"ambertools_timings.csv\").exists():\n",
    "    ambertools_timings = pandas.DataFrame(columns=[\"n_atoms\", \"SMILES\", \"time\"])\n",
    "\n",
    "    for index, molecule in enumerate(ligands):\n",
    "        ambertools_timings.loc[len(ambertools_timings)] = (\n",
    "            molecule.n_atoms,\n",
    "            molecule.to_smiles(),\n",
    "            charge_with_ambertools(molecule),\n",
    "        )\n",
    "\n",
    "nagl_timings = pandas.read_csv(\"nagl_timings.csv\")\n",
    "ambertools_timings = pandas.read_csv(\"ambertools_timings.csv\")"
   ]
  },
  {
   "cell_type": "code",
   "execution_count": null,
   "id": "120123bf",
   "metadata": {},
   "outputs": [],
   "source": [
    "import seaborn\n",
    "from matplotlib import pyplot\n",
    "\n",
    "\n",
    "seaborn.regplot(nagl_timings, x=\"n_atoms\", y=\"time\", label=\"NAGL\", scatter=True)\n",
    "seaborn.regplot(\n",
    "    ambertools_timings, x=\"n_atoms\", y=\"time\", order=3, label=\"AmberTools\", scatter=True\n",
    ")\n",
    "\n",
    "pyplot.ylim((0, 40))\n",
    "pyplot.legend(loc=0)"
   ]
  },
  {
   "cell_type": "code",
   "execution_count": null,
   "id": "e94eb352",
   "metadata": {},
   "outputs": [],
   "source": [
    "tacrolimus = Molecule.from_smiles(\n",
    "    r\"C[C@@H]1C[C@@H]([C@@H]2[C@H](C[C@H]([C@@](O2)(C(=O)C(=O)N3CCCC[C@H]3C(=O)O[C@@H]([C@@H]([C@H](CC(=O)[C@@H](/C=C(/C1)\\C)CC=C)O)C)/C(=C/[C@@H]4CC[C@H]([C@@H](C4)OC)O)/C)O)C)OC)OC\"\n",
    ")\n",
    "tacrolimus.visualize(show_all_hydrogens=False)"
   ]
  },
  {
   "cell_type": "code",
   "execution_count": null,
   "id": "bf2ab0bb",
   "metadata": {},
   "outputs": [],
   "source": [
    "%%timeit\n",
    "nagl_wrapper.assign_partial_charges(tacrolimus, \"openff-gnn-am1bcc-0.1.0-rc.3.pt\")"
   ]
  },
  {
   "cell_type": "markdown",
   "id": "ab4ab21e",
   "metadata": {},
   "source": [
    "## Credits"
   ]
  }
 ],
 "metadata": {
  "kernelspec": {
   "display_name": "Python 3",
   "language": "python",
   "name": "python3"
  },
  "language_info": {
   "codemirror_mode": {
    "name": "ipython",
    "version": 3
   },
   "file_extension": ".py",
   "mimetype": "text/x-python",
   "name": "python",
   "nbconvert_exporter": "python",
   "pygments_lexer": "ipython3",
   "version": "3.12.10"
  }
 },
 "nbformat": 4,
 "nbformat_minor": 5
}

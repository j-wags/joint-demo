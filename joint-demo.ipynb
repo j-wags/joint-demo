{
 "cells": [
  {
   "cell_type": "markdown",
   "id": "db9ea193",
   "metadata": {},
   "source": [
    "# OMSF 2025: Joint Demo\n"
   ]
  },
  {
   "cell_type": "markdown",
   "id": "a1e468ce",
   "metadata": {},
   "source": [
    "\n",
    "Lets imagine we are we are computational medicinal chemists assisting a project team working on ligand design for a biological target, in this case **MCL1** a protein that is a well established target for oncology. "
   ]
  },
  {
   "cell_type": "code",
   "execution_count": null,
   "id": "bcad5328",
   "metadata": {},
   "outputs": [],
   "source": [
    "import nglview\n",
    "\n",
    "nglview.show_file(\"source/openfe/protein.pdb\")"
   ]
  },
  {
   "cell_type": "code",
   "execution_count": null,
   "id": "5e3448f9",
   "metadata": {},
   "outputs": [],
   "source": [
    "import pandas\n",
    "\n",
    "design_set = pandas.read_csv(\"source/openadmet/ligands.csv\")\n",
    "design_set"
   ]
  },
  {
   "cell_type": "code",
   "execution_count": null,
   "id": "859f443c",
   "metadata": {},
   "outputs": [],
   "source": [
    "import datamol\n",
    "\n",
    "design_set[\"mol\"] = design_set[\"SMILES\"].apply(datamol.to_mol)\n",
    "datamol.to_image(design_set[\"mol\"])"
   ]
  },
  {
   "cell_type": "code",
   "execution_count": null,
   "id": "fe2f3ad8",
   "metadata": {},
   "outputs": [],
   "source": [
    "!openadmet predict \\\n",
    "    --input-path ./source/openadmet/ligands.csv \\\n",
    "    --input-col SMILES \\\n",
    "    --model-dir ./source/openadmet/cyp3a4_anvil_lgbm \\\n",
    "    --model-dir ./source/openadmet/cyp2d6_anvil_lgbm \\\n",
    "    --model-dir ./source/openadmet/cyp2c9_anvil_lgbm \\\n",
    "    --model-dir ./source/openadmet/cyp1a2_anvil_lgbm \\\n",
    "    --output-path ./predictions.csv"
   ]
  },
  {
   "cell_type": "code",
   "execution_count": null,
   "id": "d072d198",
   "metadata": {},
   "outputs": [],
   "source": [
    "predictions = pandas.read_csv(\"predictions.csv\")\n",
    "predictions.sort_values(\"OADMET_PRED_openadmet-CYP3A4-pchembl-lgbm\", ascending=False)"
   ]
  },
  {
   "cell_type": "code",
   "execution_count": null,
   "id": "d911c8dc",
   "metadata": {},
   "outputs": [],
   "source": [
    "CYP3A4_THRESHOLD = 5.6  # is this actually <=> IC50 of 5 micromolar?\n",
    "\n",
    "mask = predictions[\"OADMET_PRED_openadmet-CYP3A4-pchembl-lgbm\"] < CYP3A4_THRESHOLD"
   ]
  },
  {
   "cell_type": "code",
   "execution_count": null,
   "id": "b16150f4",
   "metadata": {},
   "outputs": [],
   "source": [
    "keep = predictions[mask]\n",
    "keep"
   ]
  },
  {
   "cell_type": "code",
   "execution_count": null,
   "id": "954c0bdb",
   "metadata": {},
   "outputs": [],
   "source": [
    "!openfe plan-rbfe-network \\\n",
    "    --protein source/openfe/protein.pdb \\\n",
    "    --molecules source/openfe/ligands_charged.sdf \\\n",
    "    --settings source/openfe/settings.yaml \\\n",
    "    --output-dir rbfe/"
   ]
  },
  {
   "cell_type": "code",
   "execution_count": null,
   "id": "6bc62552",
   "metadata": {},
   "outputs": [],
   "source": [
    "!tree rbfe/"
   ]
  },
  {
   "cell_type": "code",
   "execution_count": null,
   "id": "2893f2fe",
   "metadata": {},
   "outputs": [],
   "source": [
    "!#openfe quickrun rbfe/transformations/rbfe_ligand_14_complex_ligand_13_complex.json -o results_complex.json -d working-directory/"
   ]
  },
  {
   "cell_type": "code",
   "execution_count": null,
   "id": "1c7143d4",
   "metadata": {},
   "outputs": [],
   "source": [
    "!openfe gather source/openfe/results_jsons/"
   ]
  },
  {
   "cell_type": "markdown",
   "id": "3e34488e",
   "metadata": {},
   "source": [
    "### Comparing predictions of different CYP models"
   ]
  },
  {
   "cell_type": "code",
   "execution_count": null,
   "id": "78d3037b",
   "metadata": {},
   "outputs": [],
   "source": [
    "import seaborn\n",
    "from matplotlib import pyplot\n",
    "\n",
    "\n",
    "seaborn.kdeplot(data=predictions, fill=True)\n",
    "pyplot.xlabel(\"predicted pChEMBL\")\n",
    "pyplot.title(\"Distribution of predicted pChEMBL values for CYP antitargets\")\n",
    "\n",
    "pyplot.show()"
   ]
  },
  {
   "cell_type": "code",
   "execution_count": null,
   "id": "4ea8d737",
   "metadata": {},
   "outputs": [],
   "source": [
    "CYP1A2_pChEMBL_data = pandas.read_csv(\"./source/openadmet/cyp1a2_chembl_permissive.csv\")\n",
    "CYP1A2_pChEMBL_data[\"target\"] = \"CYP1A2\"\n",
    "CYP3A4_pChEMBL_data = pandas.read_csv(\"./source/openadmet/cyp3a4_chembl_permissive.csv\")\n",
    "CYP3A4_pChEMBL_data[\"target\"] = \"CYP3A4\"\n",
    "CYP2C9_pChEMBL_data = pandas.read_csv(\"./source/openadmet/cyp2c9_chembl_permissive.csv\")\n",
    "CYP2C9_pChEMBL_data[\"target\"] = \"CYP2C9\"\n",
    "CYP2D6_pChEMBL_data = pandas.read_csv(\"./source/openadmet/cyp2d6_chembl_permissive.csv\")\n",
    "CYP2D6_pChEMBL_data[\"target\"] = \"CYP2D6\"\n",
    "\n",
    "combined = pandas.concat(\n",
    "    [\n",
    "        CYP2D6_pChEMBL_data,\n",
    "        CYP2C9_pChEMBL_data,\n",
    "        CYP1A2_pChEMBL_data,\n",
    "        CYP3A4_pChEMBL_data,\n",
    "    ]\n",
    ")"
   ]
  },
  {
   "cell_type": "code",
   "execution_count": null,
   "id": "b1073682",
   "metadata": {},
   "outputs": [],
   "source": [
    "seaborn.kdeplot(combined, x=\"pchembl_value_mean\", hue=\"target\")\n",
    "\n",
    "pyplot.title(\"Distribution of CYP pChEMBL values (ChEMBL 35)\")\n",
    "pyplot.xlabel(\"Target pChEMBL\")\n",
    "\n",
    "pyplot.show()"
   ]
  },
  {
   "cell_type": "markdown",
   "id": "bfdfa844",
   "metadata": {},
   "source": [
    "### More about the OpenFE CLI"
   ]
  },
  {
   "cell_type": "code",
   "execution_count": null,
   "id": "b1ff534e",
   "metadata": {},
   "outputs": [],
   "source": [
    "# https://docs.openfree.energy/en/stable/reference/cli/charge_molecules.html\n",
    "!openfe charge-molecules \\\n",
    "    --molecules source/openfe/ligands.sdf \\\n",
    "    --output out.sdf \\\n",
    "    --n-cores 12"
   ]
  },
  {
   "cell_type": "code",
   "execution_count": null,
   "id": "443ee0be",
   "metadata": {},
   "outputs": [],
   "source": [
    "%%html\n",
    "<img src=\"source/openfe/network_layouts.png\">"
   ]
  },
  {
   "cell_type": "code",
   "execution_count": null,
   "id": "375e29a3",
   "metadata": {},
   "outputs": [],
   "source": [
    "!cat source/openfe/settings.yaml"
   ]
  },
  {
   "cell_type": "code",
   "execution_count": null,
   "id": "1b9df40c",
   "metadata": {
    "vscode": {
     "languageId": "html"
    }
   },
   "outputs": [],
   "source": [
    "from konnektor.visualization import draw_ligand_network\n",
    "import openfe"
   ]
  },
  {
   "cell_type": "code",
   "execution_count": null,
   "id": "0c6b453f",
   "metadata": {
    "vscode": {
     "languageId": "html"
    }
   },
   "outputs": [],
   "source": [
    "draw_ligand_network(\n",
    "    openfe.setup.LigandNetwork.from_graphml(open('rbfe/ligand_network.graphml').read()),\n",
    "    node_size=3000);"
   ]
  },
  {
   "cell_type": "code",
   "execution_count": null,
   "id": "ba559795",
   "metadata": {
    "vscode": {
     "languageId": "html"
    }
   },
   "outputs": [],
   "source": [
    "!cat source/openfe/radial.yaml"
   ]
  },
  {
   "cell_type": "code",
   "execution_count": null,
   "id": "ca2274bb",
   "metadata": {
    "vscode": {
     "languageId": "html"
    }
   },
   "outputs": [],
   "source": [
    "!openfe plan-rbfe-network \\\n",
    "    --protein source/openfe/protein.pdb \\\n",
    "    --molecules source/openfe/ligands_charged.sdf \\\n",
    "    --settings source/openfe/radial.yaml \\\n",
    "    --output-dir radial"
   ]
  },
  {
   "cell_type": "code",
   "execution_count": null,
   "id": "57bfabed",
   "metadata": {
    "vscode": {
     "languageId": "html"
    }
   },
   "outputs": [],
   "source": [
    "draw_ligand_network(\n",
    "    openfe.setup.LigandNetwork.from_graphml(open('radial/ligand_network.graphml').read()),\n",
    "    node_size=3000);"
   ]
  },
  {
   "cell_type": "markdown",
   "id": "1c9c2e63",
   "metadata": {
    "vscode": {
     "languageId": "html"
    }
   },
   "source": [
    "## Cool stuff you can do with OpenFF"
   ]
  },
  {
   "cell_type": "markdown",
   "id": "6800aaed",
   "metadata": {
    "vscode": {
     "languageId": "html"
    }
   },
   "source": [
    "### RDKit to MD simulation in seconds"
   ]
  },
  {
   "cell_type": "code",
   "execution_count": null,
   "id": "354b75b0",
   "metadata": {},
   "outputs": [],
   "source": [
    "from rdkit import Chem\n",
    "\n",
    "rdmol = Chem.MolFromMolFile(\"source/openff/aspirin.sdf\")\n",
    "print(Chem.MolToSmiles(rdmol))\n",
    "Chem.Draw.MolToImage(rdmol)"
   ]
  },
  {
   "cell_type": "code",
   "execution_count": null,
   "id": "be55093d",
   "metadata": {},
   "outputs": [],
   "source": [
    "from openff.toolkit import ForceField, Molecule\n",
    "\n",
    "def simulate_and_visualize(\n",
    "    rdmol: Chem.Mol,\n",
    "    force_field: ForceField,\n",
    ") -> \"nglview.NGLWidget\":\n",
    "    import mdtraj\n",
    "    import openmm\n",
    "    import openmm.unit\n",
    "\n",
    "    interchange = force_field.create_interchange(\n",
    "        Molecule.from_rdkit(rdmol).to_topology(),\n",
    "    )\n",
    "\n",
    "    integrator = openmm.LangevinMiddleIntegrator(\n",
    "        300 * openmm.unit.kelvin,\n",
    "        1 / openmm.unit.picosecond,\n",
    "        0.002 * openmm.unit.picoseconds,\n",
    "    )\n",
    "\n",
    "    simulation = interchange.to_openmm_simulation(integrator)\n",
    "\n",
    "    # OpenMM setup boilerplate\n",
    "    simulation.minimizeEnergy(tolerance=100)\n",
    "    dcd_reporter = openmm.app.DCDReporter(file=\"trajectory.dcd\", reportInterval=10)\n",
    "    simulation.reporters.append(dcd_reporter)\n",
    "    simulation.step(5000)\n",
    "\n",
    "    # these lines would be good to shove into a utils.py file\n",
    "    # ... def viz(trj_file: str, top_something) -> nglview.NGLWidget\n",
    "    # Visualize the trajectory\n",
    "    trajectory: mdtraj.Trajectory = mdtraj.load(\n",
    "        \"trajectory.dcd\",\n",
    "        top=mdtraj.Topology.from_openmm(interchange.topology.to_openmm()),\n",
    "    )\n",
    "    view = nglview.show_mdtraj(trajectory)\n",
    "    view.add_representation(\"line\", selection=\"protein\")\n",
    "    view.add_line(selection=\"water\")\n",
    "\n",
    "    return view\n",
    "\n",
    "sage = ForceField(\"openff-2.2.1.offxml\")\n",
    "\n",
    "simulate_and_visualize(rdmol, sage)"
   ]
  },
  {
   "cell_type": "markdown",
   "id": "ebefe578",
   "metadata": {},
   "source": [
    "### Run protein-ligand complexes with Sage + ff14SB"
   ]
  },
  {
   "cell_type": "code",
   "execution_count": null,
   "id": "7dfcf893",
   "metadata": {},
   "outputs": [],
   "source": [
    "from openff.toolkit import Topology\n",
    "\n",
    "topology = Topology.from_pdb(\n",
    "    \"source/openff/complex_topology.pdb\",\n",
    "    unique_molecules=[Molecule.from_smiles(\"c12c(Cl)cccc1sc(C(=O)[O-])c(Cl)2\")],\n",
    ")\n",
    "\n",
    "protein = topology.molecule(0)\n",
    "ligand = topology.molecule(1)\n",
    "\n",
    "topology.visualize()"
   ]
  },
  {
   "cell_type": "code",
   "execution_count": null,
   "id": "cd65ceea",
   "metadata": {},
   "outputs": [],
   "source": [
    "from pdbfixer import PDBFixer\n",
    "import openmm.unit\n",
    "import pathlib\n",
    "\n",
    "if not pathlib.Path(\"receptor_solvated.pdb\").exists():\n",
    "    topology.to_file('temp.pdb')\n",
    "    fixer = PDBFixer('temp.pdb')\n",
    "    fixer.addSolvent(\n",
    "        padding=0.5 * openmm.unit.nanometer,\n",
    "        ionicStrength=0.15 * openmm.unit.molar\n",
    "    )\n",
    "\n",
    "    with open(\"receptor_solvated.pdb\", \"w\") as f:\n",
    "        openmm.app.PDBFile.writeFile(fixer.topology, fixer.positions, f)\n",
    "\n",
    "solvated_topology = Topology.from_pdb(\n",
    "    \"receptor_solvated.pdb\", \n",
    "    unique_molecules=[ligand],\n",
    ")\n",
    "\n",
    "solvated_topology.visualize()\n"
   ]
  },
  {
   "cell_type": "code",
   "execution_count": null,
   "id": "68b4e8e3",
   "metadata": {},
   "outputs": [],
   "source": [
    "from openff.interchange import Interchange\n",
    "\n",
    "\n",
    "if not pathlib.Path(\"interchange.json\").exists():\n",
    "    sage_with_ff14sb= ForceField(\"openff-2.2.1.offxml\", \"ff14sb_off_impropers_0.0.4.offxml\")\n",
    "\n",
    "    interchange = sage_with_ff14sb.create_interchange(solvated_topology)\n",
    "\n",
    "    with open('interchange.json', 'w') as f:\n",
    "        f.write(interchange.json())\n",
    "\n",
    "interchange = Interchange.model_validate_json(open(\"interchange.json\").read())\n",
    "interchange.visualize()"
   ]
  },
  {
   "cell_type": "code",
   "execution_count": null,
   "id": "111bb49c",
   "metadata": {},
   "outputs": [],
   "source": [
    "if not pathlib.Path(\"protein-ligand.dcd\").exists():\n",
    "    integrator = openmm.LangevinMiddleIntegrator(\n",
    "        300 * openmm.unit.kelvin,\n",
    "        1 / openmm.unit.picosecond,\n",
    "        0.002 * openmm.unit.picoseconds,\n",
    "    )\n",
    "\n",
    "    simulation = interchange.to_openmm_simulation(integrator)\n",
    "\n",
    "    simulation.minimizeEnergy(tolerance=100)\n",
    "\n",
    "    dcd_reporter = openmm.app.DCDReporter(\n",
    "        file=\"protein-ligand.dcd\", \n",
    "        reportInterval=100,\n",
    "    )\n",
    "    simulation.reporters.append(dcd_reporter)\n",
    "\n",
    "    # ~1 minute runtime on a modern laptop\n",
    "    simulation.step(5000)"
   ]
  },
  {
   "cell_type": "code",
   "execution_count": null,
   "id": "59bafbb9",
   "metadata": {},
   "outputs": [],
   "source": [
    "import mdtraj\n",
    "\n",
    "\n",
    "nglview.show_mdtraj(\n",
    "    mdtraj.load(\n",
    "        \"protein-ligand.dcd\",\n",
    "        top=mdtraj.Topology.from_openmm(solvated_topology.to_openmm()),\n",
    "    )\n",
    ")"
   ]
  },
  {
   "cell_type": "markdown",
   "id": "c0d88a0c",
   "metadata": {
    "vscode": {
     "languageId": "html"
    }
   },
   "source": [
    "### Simulating post-translational modifications"
   ]
  },
  {
   "cell_type": "code",
   "execution_count": null,
   "id": "3f64aad1",
   "metadata": {},
   "outputs": [],
   "source": [
    "from ipywidgets import Image\n",
    "from openff.toolkit import ForceField, Molecule\n",
    "from rdkit.Chem import Draw\n",
    "from rdkit.Chem.rdChemReactions import ReactionFromSmarts\n",
    "from openff.pablo import CCD_RESIDUE_DEFINITION_CACHE\n",
    "\n",
    "cysteine = CCD_RESIDUE_DEFINITION_CACHE[\"CYS\"][0].to_openff_molecule()\n"
   ]
  },
  {
   "cell_type": "code",
   "execution_count": null,
   "id": "045e8936",
   "metadata": {},
   "outputs": [],
   "source": [
    "thiol_maleimide_click_smarts = (\n",
    "    \"[C:10]-[S:1]-[H:2]\"\n",
    "    + \".\"\n",
    "    + \"[N:3]1-[C:4](=[O:5])-[C:6](-[H:11])=[C:7](-[H:12])-[C:8](=[O:9])-1\"\n",
    "    + \">>\"\n",
    "    + \"[N:3]1-[C:4](=[O:5])-[C:6](-[H:2])(-[H:11])-[C@:7](-[S:1]-[C:10])(-[H:12])-[C:8](=[O:9])-1\"\n",
    ")\n",
    "\n",
    "rxn = ReactionFromSmarts(thiol_maleimide_click_smarts)\n",
    "d2d = Draw.MolDraw2DCairo(800, 300)\n",
    "d2d.DrawReaction(\n",
    "    ReactionFromSmarts(thiol_maleimide_click_smarts), highlightByReactant=True\n",
    ")\n",
    "Image(value=d2d.GetDrawingText())\n"
   ]
  },
  {
   "cell_type": "code",
   "execution_count": null,
   "id": "b73b7901",
   "metadata": {},
   "outputs": [],
   "source": [
    "from ptm_prototype import react\n",
    "from openff.pablo import ResidueDefinition\n",
    "from openff.pablo.chem import PEPTIDE_BOND\n",
    "from openff.pablo import CCD_RESIDUE_DEFINITION_CACHE, topology_from_pdb\n",
    "\n",
    "maleimide = Molecule.from_file(\"source/openff/maleimide.sdf\")\n",
    "maleimide.generate_unique_atom_names()\n",
    "\n",
    "products = list(react([cysteine, maleimide], thiol_maleimide_click_smarts))\n",
    "dye = products[0][0]\n",
    "name_corrections = {\n",
    "    4:  \"H3x\", 25: \"C9x\", 26: \"H4x\", 28: \"C8x\", 29: \"H6x\", 30: \"H5x\",\n",
    "    32: \"C10x\", 33: \"C11x\", 34: \"O2x\", 35: \"O3x\", 36: \"C23x\", 37: \"C12x\",\n",
    "    38: \"C22x\", 39: \"C18x\", 40: \"C13x\", 41: \"C17x\", 42: \"H14x\", 43: \"C21x\",\n",
    "    44: \"C19x\", 45: \"O5x\", 46: \"C14x\", 47: \"H7x\", 49: \"H13x\", 50: \"C20x\",\n",
    "    51: \"H11x\", 52: \"C15x\", 53: \"H8x\", 54: \"H10x\", 55: \"O6x\",\n",
    "}\n",
    "for i, name in name_corrections.items():\n",
    "    dye.atom(i).name = name\n",
    "\n",
    "dye_resdef = ResidueDefinition.from_molecule(\n",
    "    molecule=dye,\n",
    "    residue_name=\"DYE\",\n",
    "    linking_bond=PEPTIDE_BOND,\n",
    ")\n",
    "\n",
    "topology = topology_from_pdb(\n",
    "    \"source/openff/3ip9_dye_solv.pdb\",\n",
    "    residue_database=CCD_RESIDUE_DEFINITION_CACHE.with_({\"DYE\": [dye_resdef]}),\n",
    ")\n",
    "w = topology.visualize()\n",
    "w.clear_representations()\n",
    "w.add_cartoon()\n",
    "w.add_line(opacity=0.5, crossSize=1.0)\n",
    "w.add_licorice(\"DYE\", radius=0.3)\n",
    "w.add_unitcell()\n",
    "w.center(\"DYE\")\n",
    "w\n"
   ]
  },
  {
   "cell_type": "code",
   "execution_count": null,
   "id": "5794365e",
   "metadata": {},
   "outputs": [],
   "source": [
    "from ptm_prototype import parametrize_with_nagl, simulate_and_visualize\n",
    "\n",
    "import pathlib\n",
    "\n",
    "if not pathlib.Path(\"ptm.dcd\").exists():\n",
    "    sage_ff14sb = ForceField(\"openff-2.2.1.offxml\", \"ff14sb_off_impropers_0.0.4.offxml\")\n",
    "    interchange = parametrize_with_nagl(force_field=sage_ff14sb, topology=topology)\n",
    "\n",
    "    simulate_and_visualize(interchange)"
   ]
  },
  {
   "cell_type": "code",
   "execution_count": null,
   "id": "35a358b8",
   "metadata": {},
   "outputs": [],
   "source": [
    "import mdtraj\n",
    "import nglview\n",
    "\n",
    "trajectory: mdtraj.Trajectory = mdtraj.load(\n",
    "    \"ptm.dcd\",\n",
    "    top=mdtraj.Topology.from_openmm(topology.to_openmm())\n",
    ")\n",
    "\n",
    "view = nglview.show_mdtraj(trajectory)\n",
    "\n",
    "view.clear_representations()\n",
    "view.add_cartoon()\n",
    "view.add_line(opacity=0.5, crossSize=1.0)\n",
    "view.add_licorice(\"DYE\", radius=0.3)\n",
    "view.add_unitcell()\n",
    "view.center(\"DYE\")\n",
    "view"
   ]
  },
  {
   "cell_type": "markdown",
   "id": "74a3bf4e",
   "metadata": {
    "vscode": {
     "languageId": "html"
    }
   },
   "source": [
    "### Rapidly charge large ligands with NAGL"
   ]
  },
  {
   "cell_type": "code",
   "execution_count": null,
   "id": "16b91806",
   "metadata": {},
   "outputs": [],
   "source": [
    "from openff.toolkit.utils.nagl_wrapper import NAGLToolkitWrapper\n",
    "from openff.toolkit.utils.ambertools_wrapper import AmberToolsToolkitWrapper\n",
    "from openff.toolkit import Molecule\n",
    "\n",
    "\n",
    "ambertools_wrapper = AmberToolsToolkitWrapper()\n",
    "\n",
    "nagl_wrapper = NAGLToolkitWrapper()\n",
    "nagl_wrapper.assign_partial_charges(Molecule.from_smiles('C'), \"openff-gnn-am1bcc-0.1.0-rc.3.pt\")\n",
    "\n",
    "# TODO: Curate a dataset with larger range (>100 heavy atoms)\n",
    "# TODO: Only run AmberTools on molecules smaller than a certain number of heavy atoms\n",
    "ligands = [Molecule.from_smiles(smiles) for smiles in pandas.read_csv(\"source/openadmet/ligands.csv\")['SMILES']]"
   ]
  },
  {
   "cell_type": "code",
   "execution_count": 27,
   "id": "3a01f6c7",
   "metadata": {},
   "outputs": [],
   "source": [
    "import time\n",
    "import pathlib\n",
    "\n",
    "def charge_with_nagl(molecule) -> float:\n",
    "    start = time.time()\n",
    "    nagl_wrapper.assign_partial_charges(molecule, \"openff-gnn-am1bcc-0.1.0-rc.3.pt\")\n",
    "    end = time.time()\n",
    "    return end - start\n",
    "\n",
    "def charge_with_ambertools(molecule) -> float:\n",
    "    start = time.time()\n",
    "    ambertools_wrapper.assign_partial_charges(molecule, \"am1bcc\")\n",
    "    end = time.time()\n",
    "    return end - start"
   ]
  },
  {
   "cell_type": "code",
   "execution_count": 28,
   "id": "ad176e7e",
   "metadata": {},
   "outputs": [],
   "source": [
    "import pandas\n",
    "\n",
    "\n",
    "if not pathlib.Path(\"nagl_timings.csv\").exists():\n",
    "    nagl_timings = pandas.DataFrame(columns=[\"n_atoms\", \"SMILES\", \"time\"])\n",
    "\n",
    "    for molecule in ligands:\n",
    "        nagl_timings.loc[len(nagl_timings)] = (molecule.n_atoms, molecule.to_smiles(), charge_with_nagl(molecule))\n",
    "\n",
    "    #for molecule in Molecule.from_file(\"source/openff/MiniDrugBank.sdf\")[:10]:\n",
    "    #    nagl_timings.loc[len(nagl_timings)] = (molecule.n_atoms, charge_with_nagl(molecule))\n",
    "\n",
    "if not pathlib.Path(\"ambertools_timings.csv\").exists():\n",
    "    ambertools_timings = pandas.DataFrame(columns=[\"n_atoms\", \"SMILES\", \"time\"])\n",
    "\n",
    "    for index, molecule in enumerate(ligands):\n",
    "        ambertools_timings.loc[len(ambertools_timings)] = (molecule.n_atoms, molecule.to_smiles(), charge_with_ambertools(molecule))"
   ]
  },
  {
   "cell_type": "code",
   "execution_count": null,
   "id": "120123bf",
   "metadata": {},
   "outputs": [],
   "source": [
    "import seaborn\n",
    "from matplotlib import pyplot\n",
    "\n",
    "seaborn.regplot(nagl_timings, x=\"n_atoms\", y=\"time\", label=\"NAGL\", scatter=True)\n",
    "seaborn.regplot(ambertools_timings, x=\"n_atoms\", y=\"time\", order=3, label=\"AmberTools\", scatter=True)\n",
    "\n",
    "pyplot.ylim((0, 40))\n",
    "pyplot.legend(loc=0)\n"
   ]
  },
  {
   "cell_type": "markdown",
   "id": "ab4ab21e",
   "metadata": {},
   "source": [
    "## Credits"
   ]
  }
 ],
 "metadata": {
  "kernelspec": {
   "display_name": "Python 3",
   "language": "python",
   "name": "python3"
  },
  "language_info": {
   "codemirror_mode": {
    "name": "ipython",
    "version": 3
   },
   "file_extension": ".py",
   "mimetype": "text/x-python",
   "name": "python",
   "nbconvert_exporter": "python",
   "pygments_lexer": "ipython3",
   "version": "3.12.10"
  }
 },
 "nbformat": 4,
 "nbformat_minor": 5
}

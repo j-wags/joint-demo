{
 "cells": [
  {
   "cell_type": "markdown",
   "id": "b435d760-fbf0-415b-85bf-b0a678a7eba0",
   "metadata": {},
   "source": [
    "# OMSF 2025 Joint Demo\n",
    "\n",
    "https://github.com/openforcefield/joint-demo"
   ]
  },
  {
   "cell_type": "markdown",
   "id": "e46cf72e-e9bd-4250-b048-7944569291fd",
   "metadata": {},
   "source": [
    "## Joint demo: High-throughput screening pipeline"
   ]
  },
  {
   "cell_type": "markdown",
   "id": "a1e468ce",
   "metadata": {},
   "source": [
    "Let's build a pipeline for evaluating ligand binding in MCL1."
   ]
  },
  {
   "cell_type": "code",
   "execution_count": null,
   "id": "18f4dd8c-d0fd-45be-ac4e-f6648a0f33d7",
   "metadata": {
    "scrolled": true
   },
   "outputs": [],
   "source": [
    "%%bash\n",
    "# run_openfold predict \\\n",
    "#     --use_msa_server \\\n",
    "#     --query_json mcl_query.json \\\n",
    "#     --output_dir ./outputs/"
   ]
  },
  {
   "cell_type": "code",
   "execution_count": null,
   "id": "a85154b8-80e1-4f00-8369-39738fc16d11",
   "metadata": {
    "scrolled": true
   },
   "outputs": [],
   "source": [
    "import nglview\n",
    "\n",
    "\n",
    "view = nglview.show_file(\"source/openfold/5fdr.pdb\")\n",
    "\n",
    "view.add_component(\"source/openfold/5fdr_prediction_aligned.pdb\", color=\"red\")\n",
    "view.update_representation(color=\"blue\")\n",
    "view.center(1234)\n",
    "\n",
    "view"
   ]
  },
  {
   "cell_type": "markdown",
   "id": "7a035eb2-e835-4955-bbba-43c0053adb19",
   "metadata": {},
   "source": [
    "### Visualize target protein\n",
    "\n",
    "Crystal structure of MCL1"
   ]
  },
  {
   "cell_type": "code",
   "execution_count": null,
   "id": "4c4888db-bca0-4a34-8d48-5acebb2eaa24",
   "metadata": {},
   "outputs": [],
   "source": [
    "nglview.show_file(\"source/openfe/protein.pdb\")"
   ]
  },
  {
   "cell_type": "markdown",
   "id": "23f35d8b-0b87-4040-843c-124a43c18874",
   "metadata": {},
   "source": [
    "### Visualize ligand set"
   ]
  },
  {
   "cell_type": "markdown",
   "id": "f940e015",
   "metadata": {},
   "source": [
    "Ligand dataset given in SMILES"
   ]
  },
  {
   "cell_type": "code",
   "execution_count": null,
   "id": "5e3448f9",
   "metadata": {},
   "outputs": [],
   "source": [
    "import pandas\n",
    "\n",
    "\n",
    "design_set = pandas.read_csv(\"source/openadmet/ligands.csv\")\n",
    "design_set.head()"
   ]
  },
  {
   "cell_type": "code",
   "execution_count": null,
   "id": "859f443c",
   "metadata": {
    "scrolled": true
   },
   "outputs": [],
   "source": [
    "import datamol\n",
    "\n",
    "\n",
    "design_set[\"mol\"] = design_set[\"SMILES\"].apply(datamol.to_mol)\n",
    "datamol.to_image(design_set[\"mol\"])"
   ]
  },
  {
   "cell_type": "markdown",
   "id": "54dbf98f-bbfb-4223-a47a-2c7bd4d2afb0",
   "metadata": {},
   "source": [
    "### Filter ADMET liabilities\n",
    "\n",
    "Use OpenADMET CLI to predict PIC50 values of different CYPs for each ligand"
   ]
  },
  {
   "cell_type": "code",
   "execution_count": null,
   "id": "fe2f3ad8",
   "metadata": {
    "scrolled": true
   },
   "outputs": [],
   "source": [
    "!openadmet predict \\\n",
    "    --input-path ./source/openadmet/ligands.csv \\\n",
    "    --input-col SMILES \\\n",
    "    --model-dir ./source/openadmet/cyp3a4_anvil_lgbm \\\n",
    "    --model-dir ./source/openadmet/cyp2d6_anvil_lgbm \\\n",
    "    --model-dir ./source/openadmet/cyp2c9_anvil_lgbm \\\n",
    "    --model-dir ./source/openadmet/cyp1a2_anvil_lgbm \\\n",
    "    --output-path ./predictions.csv &> /dev/null"
   ]
  },
  {
   "cell_type": "code",
   "execution_count": null,
   "id": "d072d198",
   "metadata": {},
   "outputs": [],
   "source": [
    "predictions = pandas.read_csv(\"predictions.csv\")\n",
    "predictions.sort_values(\"OADMET_PRED_openadmet-CYP3A4-pchembl-lgbm\", ascending=False)"
   ]
  },
  {
   "cell_type": "code",
   "execution_count": null,
   "id": "d911c8dc",
   "metadata": {},
   "outputs": [],
   "source": [
    "CYP3A4_P_IC50_THRESHOLD = 5.6  # IC50 of 2.5 micromolar\n",
    "\n",
    "mask = predictions[\"OADMET_PRED_openadmet-CYP3A4-pchembl-lgbm\"] < CYP3A4_P_IC50_THRESHOLD"
   ]
  },
  {
   "cell_type": "code",
   "execution_count": null,
   "id": "b16150f4",
   "metadata": {},
   "outputs": [],
   "source": [
    "keep = predictions[mask]\n",
    "keep"
   ]
  },
  {
   "cell_type": "markdown",
   "id": "71af4426-33df-4961-b268-ed69078a57d7",
   "metadata": {},
   "source": [
    "### Run RBFE campaign\n",
    "\n",
    "Use OpenFE's CLI to prepare, run, and gather free energy calculations\n"
   ]
  },
  {
   "cell_type": "code",
   "execution_count": null,
   "id": "13ec250a",
   "metadata": {},
   "outputs": [],
   "source": [
    "!cat source/openfe/settings.yaml"
   ]
  },
  {
   "cell_type": "code",
   "execution_count": null,
   "id": "954c0bdb",
   "metadata": {},
   "outputs": [],
   "source": [
    "!openfe plan-rbfe-network \\\n",
    "    --protein source/openfe/protein.pdb \\\n",
    "    --molecules source/openfe/ligands_charged.sdf \\\n",
    "    --settings source/openfe/settings.yaml \\\n",
    "    --output-dir rbfe/"
   ]
  },
  {
   "cell_type": "code",
   "execution_count": null,
   "id": "76f389b8",
   "metadata": {},
   "outputs": [],
   "source": [
    "import openfe\n",
    "from konnektor.visualization import draw_ligand_network"
   ]
  },
  {
   "cell_type": "code",
   "execution_count": null,
   "id": "741fe89a",
   "metadata": {},
   "outputs": [],
   "source": [
    "draw_ligand_network(\n",
    "    openfe.setup.LigandNetwork.from_graphml(open(\"rbfe/ligand_network.graphml\").read()),\n",
    "    node_size=3500,\n",
    ");"
   ]
  },
  {
   "cell_type": "code",
   "execution_count": null,
   "id": "2893f2fe",
   "metadata": {},
   "outputs": [],
   "source": [
    "%%bash\n",
    "# openfe quickrun rbfe/transformations/rbfe_ligand_14_complex_ligand_13_complex.json \\\n",
    "#     -o results_complex.json \\\n",
    "#     -d working-directory/"
   ]
  },
  {
   "cell_type": "code",
   "execution_count": null,
   "id": "1c7143d4",
   "metadata": {},
   "outputs": [],
   "source": [
    "!openfe gather source/openfe/results_jsons/"
   ]
  },
  {
   "cell_type": "markdown",
   "id": "3e34488e",
   "metadata": {},
   "source": [
    "## OpenADMET deep dive"
   ]
  },
  {
   "cell_type": "markdown",
   "id": "4cac1fff-33e4-45eb-8b11-554c46d7e495",
   "metadata": {},
   "source": [
    "### Compare predictions of different CYP models"
   ]
  },
  {
   "cell_type": "code",
   "execution_count": null,
   "id": "78d3037b",
   "metadata": {
    "scrolled": true
   },
   "outputs": [],
   "source": [
    "import seaborn\n",
    "from matplotlib import pyplot\n",
    "\n",
    "\n",
    "seaborn.histplot(data=predictions, bins=20, alpha=0.3, fill=True)\n",
    "\n",
    "pyplot.xlabel(\"predicted pChEMBL\")\n",
    "pyplot.title(\"Distribution of predicted pChEMBL values for CYP antitargets\")\n",
    "\n",
    "pyplot.show()"
   ]
  },
  {
   "cell_type": "code",
   "execution_count": null,
   "id": "4ea8d737",
   "metadata": {},
   "outputs": [],
   "source": [
    "CYP1A2_pChEMBL_data = pandas.read_csv(\"./source/openadmet/cyp1a2_chembl_permissive.csv\")\n",
    "CYP1A2_pChEMBL_data[\"target\"] = \"CYP1A2\"\n",
    "CYP3A4_pChEMBL_data = pandas.read_csv(\"./source/openadmet/cyp3a4_chembl_permissive.csv\")\n",
    "CYP3A4_pChEMBL_data[\"target\"] = \"CYP3A4\"\n",
    "CYP2C9_pChEMBL_data = pandas.read_csv(\"./source/openadmet/cyp2c9_chembl_permissive.csv\")\n",
    "CYP2C9_pChEMBL_data[\"target\"] = \"CYP2C9\"\n",
    "CYP2D6_pChEMBL_data = pandas.read_csv(\"./source/openadmet/cyp2d6_chembl_permissive.csv\")\n",
    "CYP2D6_pChEMBL_data[\"target\"] = \"CYP2D6\"\n",
    "\n",
    "combined = pandas.concat(\n",
    "    [\n",
    "        CYP2D6_pChEMBL_data,\n",
    "        CYP2C9_pChEMBL_data,\n",
    "        CYP1A2_pChEMBL_data,\n",
    "        CYP3A4_pChEMBL_data,\n",
    "    ]\n",
    ")"
   ]
  },
  {
   "cell_type": "code",
   "execution_count": null,
   "id": "b1073682",
   "metadata": {},
   "outputs": [],
   "source": [
    "seaborn.kdeplot(combined, x=\"pchembl_value_mean\", hue=\"target\")\n",
    "\n",
    "pyplot.title(\"Distribution of CYP pChEMBL values (ChEMBL 35)\")\n",
    "pyplot.xlabel(\"Target pChEMBL\")\n",
    "\n",
    "pyplot.show()"
   ]
  },
  {
   "cell_type": "markdown",
   "id": "bfdfa844",
   "metadata": {},
   "source": [
    "## OpenFE deep dive\n",
    "\n",
    "More OpenFE CLI features\n",
    "\n",
    "[CLI reference](https://docs.openfree.energy/en/stable/reference/cli/index.html)"
   ]
  },
  {
   "cell_type": "markdown",
   "id": "aeccb383-81a0-4143-8351-3881acb6a45c",
   "metadata": {},
   "source": [
    "### Charge molecules ahead of time"
   ]
  },
  {
   "cell_type": "code",
   "execution_count": null,
   "id": "b1ff534e",
   "metadata": {
    "scrolled": true
   },
   "outputs": [],
   "source": [
    "!openfe charge-molecules \\\n",
    "    --molecules source/openfe/ligands.sdf \\\n",
    "    --output out.sdf \\\n",
    "    --n-cores 10"
   ]
  },
  {
   "cell_type": "code",
   "execution_count": null,
   "id": "c4d8f0ae-92f3-40c9-8fc4-f0089c96bde2",
   "metadata": {
    "scrolled": true
   },
   "outputs": [],
   "source": [
    "!cat source/openfe/nagl.yaml"
   ]
  },
  {
   "cell_type": "code",
   "execution_count": null,
   "id": "c80a9e5a-f747-4f2b-b41c-bd736583996f",
   "metadata": {
    "scrolled": true
   },
   "outputs": [],
   "source": [
    "!openfe charge-molecules \\\n",
    "    --molecules source/openfe/ligands.sdf \\\n",
    "    --output ligands_nagl.sdf \\\n",
    "    --settings source/openfe/nagl.yaml \\\n",
    "    --n-cores 1"
   ]
  },
  {
   "cell_type": "markdown",
   "id": "58880663-9371-46f1-9ff7-fa46bcf4605a",
   "metadata": {},
   "source": [
    "### Use different ligand networks"
   ]
  },
  {
   "cell_type": "code",
   "execution_count": null,
   "id": "443ee0be",
   "metadata": {
    "scrolled": true
   },
   "outputs": [],
   "source": [
    "%%html\n",
    "<img src=\"source/openfe/network_layouts.png\">"
   ]
  },
  {
   "cell_type": "code",
   "execution_count": null,
   "id": "ba559795",
   "metadata": {
    "vscode": {
     "languageId": "html"
    }
   },
   "outputs": [],
   "source": [
    "!cat source/openfe/radial.yaml"
   ]
  },
  {
   "cell_type": "code",
   "execution_count": null,
   "id": "ca2274bb",
   "metadata": {
    "vscode": {
     "languageId": "html"
    }
   },
   "outputs": [],
   "source": [
    "!openfe plan-rbfe-network \\\n",
    "    --protein source/openfe/protein.pdb \\\n",
    "    --molecules source/openfe/ligands_charged.sdf \\\n",
    "    --settings source/openfe/radial.yaml \\\n",
    "    --output-dir radial"
   ]
  },
  {
   "cell_type": "code",
   "execution_count": null,
   "id": "57bfabed",
   "metadata": {
    "scrolled": true,
    "vscode": {
     "languageId": "html"
    }
   },
   "outputs": [],
   "source": [
    "draw_ligand_network(\n",
    "    openfe.setup.LigandNetwork.from_graphml(open('radial/ligand_network.graphml').read()),\n",
    "    node_size=3500);"
   ]
  },
  {
   "cell_type": "markdown",
   "id": "1c9c2e63",
   "metadata": {
    "vscode": {
     "languageId": "html"
    }
   },
   "source": [
    "## OpenFF deep dive"
   ]
  },
  {
   "cell_type": "markdown",
   "id": "6800aaed",
   "metadata": {
    "vscode": {
     "languageId": "html"
    }
   },
   "source": [
    "### RDKit to MD simulation in seconds"
   ]
  },
  {
   "cell_type": "code",
   "execution_count": null,
   "id": "354b75b0",
   "metadata": {},
   "outputs": [],
   "source": [
    "from openff.toolkit import Molecule\n",
    "from rdkit import Chem\n",
    "\n",
    "\n",
    "rdmol = Chem.MolFromMolFile(\"source/openff/aspirin.sdf\")\n",
    "\n",
    "molecule = Molecule.from_rdkit(rdmol)\n",
    "molecule.visualize(backend=\"rdkit\")"
   ]
  },
  {
   "cell_type": "code",
   "execution_count": null,
   "id": "be55093d",
   "metadata": {},
   "outputs": [],
   "source": [
    "from openff.toolkit import ForceField\n",
    "\n",
    "from simulate import simulate_and_visualize\n",
    "\n",
    "\n",
    "sage = ForceField(\"openff-2.2.1.offxml\")\n",
    "\n",
    "simulate_and_visualize(rdmol, sage)"
   ]
  },
  {
   "cell_type": "markdown",
   "id": "ebefe578",
   "metadata": {},
   "source": [
    "### Protein-ligand complexes with Sage + ff14SB"
   ]
  },
  {
   "cell_type": "code",
   "execution_count": null,
   "id": "7dfcf893",
   "metadata": {},
   "outputs": [],
   "source": [
    "from openff.toolkit import Molecule, Topology\n",
    "\n",
    "\n",
    "topology = Topology.from_pdb(\n",
    "    \"source/openff/complex_topology.pdb\",\n",
    "    unique_molecules=[Molecule.from_smiles(\"c12c(Cl)cccc1sc(C(=O)[O-])c(Cl)2\")],\n",
    ")\n",
    "\n",
    "ligand = topology.molecule(1)\n",
    "\n",
    "topology.visualize()"
   ]
  },
  {
   "cell_type": "code",
   "execution_count": null,
   "id": "cd65ceea",
   "metadata": {},
   "outputs": [],
   "source": [
    "import openmm.unit\n",
    "from pdbfixer import PDBFixer\n",
    "\n",
    "\n",
    "fixer = PDBFixer(\"source/openff/complex_topology.pdb\")\n",
    "\n",
    "fixer.addSolvent(\n",
    "    padding=1.0 * openmm.unit.nanometer,\n",
    "    ionicStrength=0.15 * openmm.unit.molar,\n",
    ")\n",
    "\n",
    "with open(\"receptor_solvated.pdb\", \"w\") as f:\n",
    "    openmm.app.PDBFile.writeFile(fixer.topology, fixer.positions, f)\n",
    "\n",
    "solvated_topology = Topology.from_pdb(\n",
    "    \"receptor_solvated.pdb\",\n",
    "    unique_molecules=[ligand],\n",
    ")\n",
    "\n",
    "solvated_topology.set_positions(\n",
    "    solvated_topology.get_positions() - solvated_topology.get_positions().min(axis=0)\n",
    ")\n",
    "solvated_topology.visualize()"
   ]
  },
  {
   "cell_type": "code",
   "execution_count": null,
   "id": "68b4e8e3",
   "metadata": {},
   "outputs": [],
   "source": [
    "import pathlib\n",
    "\n",
    "from openff.interchange import Interchange\n",
    "\n",
    "\n",
    "if not pathlib.Path(\"interchange.json\").exists():\n",
    "    sage_with_ff14sb = ForceField(\n",
    "        \"openff-2.2.1.offxml\", \"ff14sb_off_impropers_0.0.4.offxml\"\n",
    "    )\n",
    "\n",
    "    interchange = sage_with_ff14sb.create_interchange(solvated_topology)\n",
    "\n",
    "    with open(\"interchange.json\", \"w\") as f:\n",
    "        f.write(interchange.json())\n",
    "\n",
    "interchange = Interchange.model_validate_json(open(\"interchange.json\").read())"
   ]
  },
  {
   "cell_type": "code",
   "execution_count": null,
   "id": "111bb49c",
   "metadata": {},
   "outputs": [],
   "source": [
    "from simulate import run_openmm_half_minute\n",
    "\n",
    "\n",
    "run_openmm_half_minute(interchange, \"protein-ligand.dcd\")"
   ]
  },
  {
   "cell_type": "code",
   "execution_count": null,
   "id": "59bafbb9",
   "metadata": {},
   "outputs": [],
   "source": [
    "import mdtraj\n",
    "\n",
    "\n",
    "nglview.show_mdtraj(\n",
    "    mdtraj.load(\n",
    "        \"protein-ligand.dcd\",\n",
    "        top=mdtraj.Topology.from_openmm(solvated_topology.to_openmm()),\n",
    "    )\n",
    ")"
   ]
  },
  {
   "cell_type": "markdown",
   "id": "c0d88a0c",
   "metadata": {
    "vscode": {
     "languageId": "html"
    }
   },
   "source": [
    "### Post-translational modifications"
   ]
  },
  {
   "cell_type": "markdown",
   "id": "893a6416",
   "metadata": {},
   "source": [
    "Taken from OpenFF's prototype PTM workflow:\n",
    "\n",
    "https://github.com/openforcefield/ptm_prototype\n",
    "\n",
    "What about non-canonical amino acids, or other molecules covalently bound to a protein?"
   ]
  },
  {
   "cell_type": "code",
   "execution_count": null,
   "id": "d2fb3d82",
   "metadata": {},
   "outputs": [],
   "source": [
    "from openff.toolkit import Molecule\n",
    "\n",
    "\n",
    "dye = Molecule.from_file(\"source/openff/maleimide.sdf\")\n",
    "dye.generate_unique_atom_names()\n",
    "dye"
   ]
  },
  {
   "cell_type": "code",
   "execution_count": null,
   "id": "045e8936",
   "metadata": {},
   "outputs": [],
   "source": [
    "from ipywidgets import Image\n",
    "from rdkit.Chem import Draw\n",
    "from rdkit.Chem.rdChemReactions import ReactionFromSmarts\n",
    "\n",
    "\n",
    "thiol_maleimide_click_smarts = (\n",
    "    \"[C:10]-[S:1]-[H:2]\"\n",
    "    + \".\"\n",
    "    + \"[N:3]1-[C:4](=[O:5])-[C:6](-[H:11])=[C:7](-[H:12])-[C:8](=[O:9])-1\"\n",
    "    + \">>\"\n",
    "    + \"[N:3]1-[C:4](=[O:5])-[C:6](-[H:2])(-[H:11])-[C@:7](-[S:1]-[C:10])(-[H:12])-[C:8](=[O:9])-1\"\n",
    ")\n",
    "\n",
    "d2d = Draw.MolDraw2DCairo(800, 300)\n",
    "d2d.DrawReaction(\n",
    "    ReactionFromSmarts(thiol_maleimide_click_smarts),\n",
    "    highlightByReactant=True,\n",
    ")\n",
    "Image(value=d2d.GetDrawingText())"
   ]
  },
  {
   "cell_type": "code",
   "execution_count": null,
   "id": "b73b7901",
   "metadata": {},
   "outputs": [],
   "source": [
    "from openff.pablo import (\n",
    "    CCD_RESIDUE_DEFINITION_CACHE,\n",
    "    ResidueDefinition,\n",
    "    topology_from_pdb,\n",
    ")\n",
    "from openff.pablo.chem import PEPTIDE_BOND\n",
    "\n",
    "from ptm_prototype import react\n",
    "\n",
    "\n",
    "cysteine = CCD_RESIDUE_DEFINITION_CACHE[\"CYS\"][0].to_openff_molecule()\n",
    "\n",
    "products = list(react([cysteine, dye], thiol_maleimide_click_smarts))\n",
    "cysteine_with_dye = products[0][0]\n",
    "name_corrections = {\n",
    "    4: \"H3x\",\n",
    "    25: \"C9x\",\n",
    "    26: \"H4x\",\n",
    "    28: \"C8x\",\n",
    "    29: \"H6x\",\n",
    "    30: \"H5x\",\n",
    "    32: \"C10x\",\n",
    "    33: \"C11x\",\n",
    "    34: \"O2x\",\n",
    "    35: \"O3x\",\n",
    "    36: \"C23x\",\n",
    "    37: \"C12x\",\n",
    "    38: \"C22x\",\n",
    "    39: \"C18x\",\n",
    "    40: \"C13x\",\n",
    "    41: \"C17x\",\n",
    "    42: \"H14x\",\n",
    "    43: \"C21x\",\n",
    "    44: \"C19x\",\n",
    "    45: \"O5x\",\n",
    "    46: \"C14x\",\n",
    "    47: \"H7x\",\n",
    "    49: \"H13x\",\n",
    "    50: \"C20x\",\n",
    "    51: \"H11x\",\n",
    "    52: \"C15x\",\n",
    "    53: \"H8x\",\n",
    "    54: \"H10x\",\n",
    "    55: \"O6x\",\n",
    "}\n",
    "for i, name in name_corrections.items():\n",
    "    cysteine_with_dye.atom(i).name = name\n",
    "\n",
    "cysteine_with_dye.visualize(backend=\"rdkit\")"
   ]
  },
  {
   "cell_type": "code",
   "execution_count": null,
   "id": "33768776",
   "metadata": {
    "scrolled": true
   },
   "outputs": [],
   "source": [
    "dye_resdef = ResidueDefinition.from_molecule(\n",
    "    molecule=cysteine_with_dye,\n",
    "    residue_name=\"DYE\",\n",
    "    linking_bond=PEPTIDE_BOND,\n",
    ")\n",
    "\n",
    "topology = topology_from_pdb(\n",
    "    \"source/openff/3ip9_dye_solv.pdb\",\n",
    "    residue_database=CCD_RESIDUE_DEFINITION_CACHE.with_({\"DYE\": [dye_resdef]}),\n",
    ")\n",
    "view = topology.visualize()\n",
    "view.clear_representations()\n",
    "view.add_cartoon()\n",
    "view.add_line(opacity=0.5, crossSize=1.0)\n",
    "view.add_licorice(\"DYE\", radius=0.3)\n",
    "view.add_unitcell()\n",
    "view.center(\"DYE\")\n",
    "view"
   ]
  },
  {
   "cell_type": "code",
   "execution_count": null,
   "id": "5794365e",
   "metadata": {},
   "outputs": [],
   "source": [
    "from ptm_prototype import parametrize_with_nagl, simulate_and_visualize\n",
    "\n",
    "\n",
    "if not pathlib.Path(\"ptm.dcd\").exists():\n",
    "    sage_ff14sb = ForceField(\"openff-2.2.1.offxml\", \"ff14sb_off_impropers_0.0.4.offxml\")\n",
    "    interchange = parametrize_with_nagl(force_field=sage_ff14sb, topology=topology)\n",
    "\n",
    "    simulate_and_visualize(interchange)"
   ]
  },
  {
   "cell_type": "code",
   "execution_count": null,
   "id": "35a358b8",
   "metadata": {
    "scrolled": true
   },
   "outputs": [],
   "source": [
    "import mdtraj\n",
    "import nglview\n",
    "\n",
    "\n",
    "trajectory: mdtraj.Trajectory = mdtraj.load(\n",
    "    \"ptm.dcd\", top=mdtraj.Topology.from_openmm(topology.to_openmm())\n",
    ")\n",
    "\n",
    "view = nglview.show_mdtraj(trajectory)\n",
    "\n",
    "view.clear_representations()\n",
    "view.add_cartoon()\n",
    "view.add_line(opacity=0.5, crossSize=1.0)\n",
    "view.add_licorice(\"DYE\", radius=0.3)\n",
    "view.add_unitcell()\n",
    "view.center(\"DYE\")\n",
    "view"
   ]
  },
  {
   "cell_type": "markdown",
   "id": "74a3bf4e",
   "metadata": {
    "vscode": {
     "languageId": "html"
    }
   },
   "source": [
    "### NAGL assigns charges quickly"
   ]
  },
  {
   "cell_type": "code",
   "execution_count": 5,
   "id": "7cd622f9-c519-4082-b742-e3fdb70f4966",
   "metadata": {},
   "outputs": [],
   "source": [
    "from openff.toolkit.utils.ambertools_wrapper import AmberToolsToolkitWrapper\n",
    "from openff.toolkit.utils.nagl_wrapper import NAGLToolkitWrapper"
   ]
  },
  {
   "cell_type": "code",
   "execution_count": 6,
   "id": "16b91806",
   "metadata": {
    "scrolled": true
   },
   "outputs": [
    {
     "data": {
      "application/vnd.jupyter.widget-view+json": {
       "model_id": "2dcf6942c51c462d95498f79eeb05f3e",
       "version_major": 2,
       "version_minor": 0
      },
      "text/plain": []
     },
     "metadata": {},
     "output_type": "display_data"
    },
    {
     "data": {
      "image/svg+xml": [
       "<svg xmlns=\"http://www.w3.org/2000/svg\" xmlns:rdkit=\"http://www.rdkit.org/xml\" xmlns:xlink=\"http://www.w3.org/1999/xlink\" version=\"1.1\" baseProfile=\"full\" xml:space=\"preserve\" width=\"500px\" height=\"300px\" viewBox=\"0 0 500 300\">\n",
       "<!-- END OF HEADER -->\n",
       "<rect style=\"opacity:1.0;fill:#FFFFFF;stroke:none\" width=\"500.0\" height=\"300.0\" x=\"0.0\" y=\"0.0\"> </rect>\n",
       "<path class=\"bond-0 atom-0 atom-1\" d=\"M 283.5,32.7 L 288.1,51.1\" style=\"fill:none;fill-rule:evenodd;stroke:#000000;stroke-width:2.0px;stroke-linecap:butt;stroke-linejoin:miter;stroke-opacity:1\"/>\n",
       "<path class=\"bond-1 atom-1 atom-6\" d=\"M 288.1,51.1 L 306.4,56.2\" style=\"fill:none;fill-rule:evenodd;stroke:#000000;stroke-width:2.0px;stroke-linecap:butt;stroke-linejoin:miter;stroke-opacity:1\"/>\n",
       "<path class=\"bond-1 atom-1 atom-6\" d=\"M 288.9,54.2 L 304.0,58.5\" style=\"fill:none;fill-rule:evenodd;stroke:#000000;stroke-width:2.0px;stroke-linecap:butt;stroke-linejoin:miter;stroke-opacity:1\"/>\n",
       "<path class=\"bond-2 atom-1 atom-2\" d=\"M 288.1,51.1 L 274.6,64.4\" style=\"fill:none;fill-rule:evenodd;stroke:#000000;stroke-width:2.0px;stroke-linecap:butt;stroke-linejoin:miter;stroke-opacity:1\"/>\n",
       "<path class=\"bond-3 atom-2 atom-3\" d=\"M 274.6,64.4 L 279.3,82.7\" style=\"fill:none;fill-rule:evenodd;stroke:#000000;stroke-width:2.0px;stroke-linecap:butt;stroke-linejoin:miter;stroke-opacity:1\"/>\n",
       "<path class=\"bond-3 atom-2 atom-3\" d=\"M 277.7,65.2 L 281.7,80.4\" style=\"fill:none;fill-rule:evenodd;stroke:#000000;stroke-width:2.0px;stroke-linecap:butt;stroke-linejoin:miter;stroke-opacity:1\"/>\n",
       "<path class=\"bond-4 atom-3 atom-4\" d=\"M 279.3,82.7 L 297.7,87.8\" style=\"fill:none;fill-rule:evenodd;stroke:#000000;stroke-width:2.0px;stroke-linecap:butt;stroke-linejoin:miter;stroke-opacity:1\"/>\n",
       "<path class=\"bond-5 atom-4 atom-5\" d=\"M 297.7,87.8 L 311.2,74.5\" style=\"fill:none;fill-rule:evenodd;stroke:#000000;stroke-width:2.0px;stroke-linecap:butt;stroke-linejoin:miter;stroke-opacity:1\"/>\n",
       "<path class=\"bond-5 atom-4 atom-5\" d=\"M 296.8,84.6 L 308.0,73.7\" style=\"fill:none;fill-rule:evenodd;stroke:#000000;stroke-width:2.0px;stroke-linecap:butt;stroke-linejoin:miter;stroke-opacity:1\"/>\n",
       "<path class=\"bond-6 atom-5 atom-6\" d=\"M 311.2,74.5 L 306.4,56.2\" style=\"fill:none;fill-rule:evenodd;stroke:#000000;stroke-width:2.0px;stroke-linecap:butt;stroke-linejoin:miter;stroke-opacity:1\"/>\n",
       "<path class=\"bond-7 atom-6 atom-7\" d=\"M 306.4,56.2 L 311.3,51.4\" style=\"fill:none;fill-rule:evenodd;stroke:#000000;stroke-width:2.0px;stroke-linecap:butt;stroke-linejoin:miter;stroke-opacity:1\"/>\n",
       "<path class=\"bond-7 atom-6 atom-7\" d=\"M 311.3,51.4 L 316.2,46.6\" style=\"fill:none;fill-rule:evenodd;stroke:#00CC00;stroke-width:2.0px;stroke-linecap:butt;stroke-linejoin:miter;stroke-opacity:1\"/>\n",
       "<path class=\"bond-8 atom-5 atom-8\" d=\"M 311.2,74.5 L 329.4,79.7\" style=\"fill:none;fill-rule:evenodd;stroke:#000000;stroke-width:2.0px;stroke-linecap:butt;stroke-linejoin:miter;stroke-opacity:1\"/>\n",
       "<path class=\"bond-9 atom-3 atom-9\" d=\"M 279.3,82.7 L 274.8,87.2\" style=\"fill:none;fill-rule:evenodd;stroke:#000000;stroke-width:2.0px;stroke-linecap:butt;stroke-linejoin:miter;stroke-opacity:1\"/>\n",
       "<path class=\"bond-9 atom-3 atom-9\" d=\"M 274.8,87.2 L 270.2,91.6\" style=\"fill:none;fill-rule:evenodd;stroke:#FF0000;stroke-width:2.0px;stroke-linecap:butt;stroke-linejoin:miter;stroke-opacity:1\"/>\n",
       "<path class=\"bond-10 atom-9 atom-10\" d=\"M 267.1,100.6 L 268.7,107.2\" style=\"fill:none;fill-rule:evenodd;stroke:#FF0000;stroke-width:2.0px;stroke-linecap:butt;stroke-linejoin:miter;stroke-opacity:1\"/>\n",
       "<path class=\"bond-10 atom-9 atom-10\" d=\"M 268.7,107.2 L 270.4,113.9\" style=\"fill:none;fill-rule:evenodd;stroke:#000000;stroke-width:2.0px;stroke-linecap:butt;stroke-linejoin:miter;stroke-opacity:1\"/>\n",
       "<path class=\"bond-11 atom-10 atom-11\" d=\"M 270.4,113.9 L 257.3,126.8\" style=\"fill:none;fill-rule:evenodd;stroke:#000000;stroke-width:2.0px;stroke-linecap:butt;stroke-linejoin:miter;stroke-opacity:1\"/>\n",
       "<path class=\"bond-12 atom-11 atom-12\" d=\"M 257.3,126.8 L 261.6,144.3\" style=\"fill:none;fill-rule:evenodd;stroke:#000000;stroke-width:2.0px;stroke-linecap:butt;stroke-linejoin:miter;stroke-opacity:1\"/>\n",
       "<path class=\"bond-13 atom-12 atom-13\" d=\"M 261.6,144.3 L 250.3,155.0\" style=\"fill:none;fill-rule:evenodd;stroke:#000000;stroke-width:2.0px;stroke-linecap:butt;stroke-linejoin:miter;stroke-opacity:1\"/>\n",
       "<path class=\"bond-14 atom-13 atom-21\" d=\"M 250.3,155.0 L 254.5,173.6\" style=\"fill:none;fill-rule:evenodd;stroke:#000000;stroke-width:2.0px;stroke-linecap:butt;stroke-linejoin:miter;stroke-opacity:1\"/>\n",
       "<path class=\"bond-14 atom-13 atom-21\" d=\"M 248.0,157.6 L 251.3,172.2\" style=\"fill:none;fill-rule:evenodd;stroke:#000000;stroke-width:2.0px;stroke-linecap:butt;stroke-linejoin:miter;stroke-opacity:1\"/>\n",
       "<path class=\"bond-15 atom-13 atom-14\" d=\"M 250.3,155.0 L 231.4,153.0\" style=\"fill:none;fill-rule:evenodd;stroke:#000000;stroke-width:2.0px;stroke-linecap:butt;stroke-linejoin:miter;stroke-opacity:1\"/>\n",
       "<path class=\"bond-16 atom-14 atom-19\" d=\"M 231.4,153.0 L 223.7,170.2\" style=\"fill:none;fill-rule:evenodd;stroke:#000000;stroke-width:2.0px;stroke-linecap:butt;stroke-linejoin:miter;stroke-opacity:1\"/>\n",
       "<path class=\"bond-17 atom-14 atom-15\" d=\"M 231.4,153.0 L 220.3,137.4\" style=\"fill:none;fill-rule:evenodd;stroke:#000000;stroke-width:2.0px;stroke-linecap:butt;stroke-linejoin:miter;stroke-opacity:1\"/>\n",
       "<path class=\"bond-17 atom-14 atom-15\" d=\"M 228.2,153.3 L 219.0,140.3\" style=\"fill:none;fill-rule:evenodd;stroke:#000000;stroke-width:2.0px;stroke-linecap:butt;stroke-linejoin:miter;stroke-opacity:1\"/>\n",
       "<path class=\"bond-18 atom-15 atom-16\" d=\"M 220.3,137.4 L 201.4,139.1\" style=\"fill:none;fill-rule:evenodd;stroke:#000000;stroke-width:2.0px;stroke-linecap:butt;stroke-linejoin:miter;stroke-opacity:1\"/>\n",
       "<path class=\"bond-19 atom-16 atom-17\" d=\"M 201.4,139.1 L 193.4,156.2\" style=\"fill:none;fill-rule:evenodd;stroke:#000000;stroke-width:2.0px;stroke-linecap:butt;stroke-linejoin:miter;stroke-opacity:1\"/>\n",
       "<path class=\"bond-19 atom-16 atom-17\" d=\"M 203.3,141.7 L 196.7,155.9\" style=\"fill:none;fill-rule:evenodd;stroke:#000000;stroke-width:2.0px;stroke-linecap:butt;stroke-linejoin:miter;stroke-opacity:1\"/>\n",
       "<path class=\"bond-20 atom-17 atom-18\" d=\"M 193.4,156.2 L 204.4,171.9\" style=\"fill:none;fill-rule:evenodd;stroke:#000000;stroke-width:2.0px;stroke-linecap:butt;stroke-linejoin:miter;stroke-opacity:1\"/>\n",
       "<path class=\"bond-21 atom-18 atom-19\" d=\"M 204.4,171.9 L 223.7,170.2\" style=\"fill:none;fill-rule:evenodd;stroke:#000000;stroke-width:2.0px;stroke-linecap:butt;stroke-linejoin:miter;stroke-opacity:1\"/>\n",
       "<path class=\"bond-21 atom-18 atom-19\" d=\"M 205.8,168.9 L 221.8,167.5\" style=\"fill:none;fill-rule:evenodd;stroke:#000000;stroke-width:2.0px;stroke-linecap:butt;stroke-linejoin:miter;stroke-opacity:1\"/>\n",
       "<path class=\"bond-22 atom-19 atom-20\" d=\"M 223.7,170.2 L 229.2,175.0\" style=\"fill:none;fill-rule:evenodd;stroke:#000000;stroke-width:2.0px;stroke-linecap:butt;stroke-linejoin:miter;stroke-opacity:1\"/>\n",
       "<path class=\"bond-22 atom-19 atom-20\" d=\"M 229.2,175.0 L 234.7,179.9\" style=\"fill:none;fill-rule:evenodd;stroke:#0000FF;stroke-width:2.0px;stroke-linecap:butt;stroke-linejoin:miter;stroke-opacity:1\"/>\n",
       "<path class=\"bond-23 atom-20 atom-21\" d=\"M 242.0,180.9 L 248.2,177.2\" style=\"fill:none;fill-rule:evenodd;stroke:#0000FF;stroke-width:2.0px;stroke-linecap:butt;stroke-linejoin:miter;stroke-opacity:1\"/>\n",
       "<path class=\"bond-23 atom-20 atom-21\" d=\"M 248.2,177.2 L 254.5,173.6\" style=\"fill:none;fill-rule:evenodd;stroke:#000000;stroke-width:2.0px;stroke-linecap:butt;stroke-linejoin:miter;stroke-opacity:1\"/>\n",
       "<path class=\"bond-24 atom-21 atom-22\" d=\"M 254.5,173.6 L 269.6,183.2\" style=\"fill:none;fill-rule:evenodd;stroke:#000000;stroke-width:2.0px;stroke-linecap:butt;stroke-linejoin:miter;stroke-opacity:1\"/>\n",
       "<path class=\"bond-25 atom-22 atom-23\" d=\"M 269.5,184.8 L 275.7,181.6\" style=\"fill:none;fill-rule:evenodd;stroke:#000000;stroke-width:2.0px;stroke-linecap:butt;stroke-linejoin:miter;stroke-opacity:1\"/>\n",
       "<path class=\"bond-25 atom-22 atom-23\" d=\"M 275.7,181.6 L 282.0,178.4\" style=\"fill:none;fill-rule:evenodd;stroke:#FF0000;stroke-width:2.0px;stroke-linecap:butt;stroke-linejoin:miter;stroke-opacity:1\"/>\n",
       "<path class=\"bond-25 atom-22 atom-23\" d=\"M 268.2,182.3 L 274.5,179.1\" style=\"fill:none;fill-rule:evenodd;stroke:#000000;stroke-width:2.0px;stroke-linecap:butt;stroke-linejoin:miter;stroke-opacity:1\"/>\n",
       "<path class=\"bond-25 atom-22 atom-23\" d=\"M 274.5,179.1 L 280.7,175.9\" style=\"fill:none;fill-rule:evenodd;stroke:#FF0000;stroke-width:2.0px;stroke-linecap:butt;stroke-linejoin:miter;stroke-opacity:1\"/>\n",
       "<path class=\"bond-26 atom-22 atom-24\" d=\"M 269.6,183.2 L 269.1,191.2\" style=\"fill:none;fill-rule:evenodd;stroke:#000000;stroke-width:2.0px;stroke-linecap:butt;stroke-linejoin:miter;stroke-opacity:1\"/>\n",
       "<path class=\"bond-26 atom-22 atom-24\" d=\"M 269.1,191.2 L 268.5,199.1\" style=\"fill:none;fill-rule:evenodd;stroke:#0000FF;stroke-width:2.0px;stroke-linecap:butt;stroke-linejoin:miter;stroke-opacity:1\"/>\n",
       "<path class=\"bond-27 atom-24 atom-25\" d=\"M 271.9,206.1 L 276.4,209.0\" style=\"fill:none;fill-rule:evenodd;stroke:#0000FF;stroke-width:2.0px;stroke-linecap:butt;stroke-linejoin:miter;stroke-opacity:1\"/>\n",
       "<path class=\"bond-27 atom-24 atom-25\" d=\"M 276.4,209.0 L 280.9,211.9\" style=\"fill:none;fill-rule:evenodd;stroke:#CCCC00;stroke-width:2.0px;stroke-linecap:butt;stroke-linejoin:miter;stroke-opacity:1\"/>\n",
       "<path class=\"bond-28 atom-25 atom-26\" d=\"M 280.0,218.1 L 278.0,221.5\" style=\"fill:none;fill-rule:evenodd;stroke:#CCCC00;stroke-width:2.0px;stroke-linecap:butt;stroke-linejoin:miter;stroke-opacity:1\"/>\n",
       "<path class=\"bond-28 atom-25 atom-26\" d=\"M 278.0,221.5 L 276.0,225.0\" style=\"fill:none;fill-rule:evenodd;stroke:#FF0000;stroke-width:2.0px;stroke-linecap:butt;stroke-linejoin:miter;stroke-opacity:1\"/>\n",
       "<path class=\"bond-28 atom-25 atom-26\" d=\"M 282.5,219.5 L 280.4,223.0\" style=\"fill:none;fill-rule:evenodd;stroke:#CCCC00;stroke-width:2.0px;stroke-linecap:butt;stroke-linejoin:miter;stroke-opacity:1\"/>\n",
       "<path class=\"bond-28 atom-25 atom-26\" d=\"M 280.4,223.0 L 278.4,226.4\" style=\"fill:none;fill-rule:evenodd;stroke:#FF0000;stroke-width:2.0px;stroke-linecap:butt;stroke-linejoin:miter;stroke-opacity:1\"/>\n",
       "<path class=\"bond-29 atom-25 atom-27\" d=\"M 288.1,210.0 L 290.0,206.6\" style=\"fill:none;fill-rule:evenodd;stroke:#CCCC00;stroke-width:2.0px;stroke-linecap:butt;stroke-linejoin:miter;stroke-opacity:1\"/>\n",
       "<path class=\"bond-29 atom-25 atom-27\" d=\"M 290.0,206.6 L 292.0,203.3\" style=\"fill:none;fill-rule:evenodd;stroke:#FF0000;stroke-width:2.0px;stroke-linecap:butt;stroke-linejoin:miter;stroke-opacity:1\"/>\n",
       "<path class=\"bond-29 atom-25 atom-27\" d=\"M 285.6,208.6 L 287.6,205.2\" style=\"fill:none;fill-rule:evenodd;stroke:#CCCC00;stroke-width:2.0px;stroke-linecap:butt;stroke-linejoin:miter;stroke-opacity:1\"/>\n",
       "<path class=\"bond-29 atom-25 atom-27\" d=\"M 287.6,205.2 L 289.6,201.8\" style=\"fill:none;fill-rule:evenodd;stroke:#FF0000;stroke-width:2.0px;stroke-linecap:butt;stroke-linejoin:miter;stroke-opacity:1\"/>\n",
       "<path class=\"bond-30 atom-25 atom-28\" d=\"M 287.3,215.8 L 294.0,219.6\" style=\"fill:none;fill-rule:evenodd;stroke:#CCCC00;stroke-width:2.0px;stroke-linecap:butt;stroke-linejoin:miter;stroke-opacity:1\"/>\n",
       "<path class=\"bond-30 atom-25 atom-28\" d=\"M 294.0,219.6 L 300.6,223.4\" style=\"fill:none;fill-rule:evenodd;stroke:#000000;stroke-width:2.0px;stroke-linecap:butt;stroke-linejoin:miter;stroke-opacity:1\"/>\n",
       "<path class=\"bond-31 atom-28 atom-32\" d=\"M 300.6,223.4 L 301.6,230.4\" style=\"fill:none;fill-rule:evenodd;stroke:#000000;stroke-width:2.0px;stroke-linecap:butt;stroke-linejoin:miter;stroke-opacity:1\"/>\n",
       "<path class=\"bond-31 atom-28 atom-32\" d=\"M 301.6,230.4 L 302.6,237.4\" style=\"fill:none;fill-rule:evenodd;stroke:#FF0000;stroke-width:2.0px;stroke-linecap:butt;stroke-linejoin:miter;stroke-opacity:1\"/>\n",
       "<path class=\"bond-32 atom-28 atom-29\" d=\"M 300.6,223.4 L 317.7,215.1\" style=\"fill:none;fill-rule:evenodd;stroke:#000000;stroke-width:2.0px;stroke-linecap:butt;stroke-linejoin:miter;stroke-opacity:1\"/>\n",
       "<path class=\"bond-32 atom-28 atom-29\" d=\"M 303.7,225.0 L 317.1,218.5\" style=\"fill:none;fill-rule:evenodd;stroke:#000000;stroke-width:2.0px;stroke-linecap:butt;stroke-linejoin:miter;stroke-opacity:1\"/>\n",
       "<path class=\"bond-33 atom-29 atom-30\" d=\"M 317.7,215.1 L 330.8,228.8\" style=\"fill:none;fill-rule:evenodd;stroke:#000000;stroke-width:2.0px;stroke-linecap:butt;stroke-linejoin:miter;stroke-opacity:1\"/>\n",
       "<path class=\"bond-34 atom-30 atom-31\" d=\"M 330.8,228.8 L 321.9,245.5\" style=\"fill:none;fill-rule:evenodd;stroke:#000000;stroke-width:2.0px;stroke-linecap:butt;stroke-linejoin:miter;stroke-opacity:1\"/>\n",
       "<path class=\"bond-34 atom-30 atom-31\" d=\"M 327.4,229.3 L 320.4,242.3\" style=\"fill:none;fill-rule:evenodd;stroke:#000000;stroke-width:2.0px;stroke-linecap:butt;stroke-linejoin:miter;stroke-opacity:1\"/>\n",
       "<path class=\"bond-35 atom-31 atom-32\" d=\"M 321.9,245.5 L 314.7,244.2\" style=\"fill:none;fill-rule:evenodd;stroke:#000000;stroke-width:2.0px;stroke-linecap:butt;stroke-linejoin:miter;stroke-opacity:1\"/>\n",
       "<path class=\"bond-35 atom-31 atom-32\" d=\"M 314.7,244.2 L 307.5,242.9\" style=\"fill:none;fill-rule:evenodd;stroke:#FF0000;stroke-width:2.0px;stroke-linecap:butt;stroke-linejoin:miter;stroke-opacity:1\"/>\n",
       "<path class=\"bond-36 atom-31 atom-33\" d=\"M 321.9,245.5 L 330.1,262.6\" style=\"fill:none;fill-rule:evenodd;stroke:#000000;stroke-width:2.0px;stroke-linecap:butt;stroke-linejoin:miter;stroke-opacity:1\"/>\n",
       "<path class=\"bond-37 atom-33 atom-34\" d=\"M 329.4,261.1 L 325.5,266.9\" style=\"fill:none;fill-rule:evenodd;stroke:#000000;stroke-width:2.0px;stroke-linecap:butt;stroke-linejoin:miter;stroke-opacity:1\"/>\n",
       "<path class=\"bond-37 atom-33 atom-34\" d=\"M 325.5,266.9 L 321.5,272.8\" style=\"fill:none;fill-rule:evenodd;stroke:#FF0000;stroke-width:2.0px;stroke-linecap:butt;stroke-linejoin:miter;stroke-opacity:1\"/>\n",
       "<path class=\"bond-37 atom-33 atom-34\" d=\"M 331.8,262.7 L 327.8,268.5\" style=\"fill:none;fill-rule:evenodd;stroke:#000000;stroke-width:2.0px;stroke-linecap:butt;stroke-linejoin:miter;stroke-opacity:1\"/>\n",
       "<path class=\"bond-37 atom-33 atom-34\" d=\"M 327.8,268.5 L 323.9,274.3\" style=\"fill:none;fill-rule:evenodd;stroke:#FF0000;stroke-width:2.0px;stroke-linecap:butt;stroke-linejoin:miter;stroke-opacity:1\"/>\n",
       "<path class=\"bond-38 atom-33 atom-35\" d=\"M 330.1,262.6 L 337.4,263.1\" style=\"fill:none;fill-rule:evenodd;stroke:#000000;stroke-width:2.0px;stroke-linecap:butt;stroke-linejoin:miter;stroke-opacity:1\"/>\n",
       "<path class=\"bond-38 atom-33 atom-35\" d=\"M 337.4,263.1 L 344.7,263.6\" style=\"fill:none;fill-rule:evenodd;stroke:#FF0000;stroke-width:2.0px;stroke-linecap:butt;stroke-linejoin:miter;stroke-opacity:1\"/>\n",
       "<path class=\"bond-39 atom-18 atom-36\" d=\"M 204.4,171.9 L 191.9,189.8\" style=\"fill:none;fill-rule:evenodd;stroke:#000000;stroke-width:2.0px;stroke-linecap:butt;stroke-linejoin:miter;stroke-opacity:1\"/>\n",
       "<path class=\"bond-40 atom-36 atom-40\" d=\"M 191.9,189.8 L 200.0,206.8\" style=\"fill:none;fill-rule:evenodd;stroke:#000000;stroke-width:2.0px;stroke-linecap:butt;stroke-linejoin:miter;stroke-opacity:1\"/>\n",
       "<path class=\"bond-41 atom-36 atom-37\" d=\"M 191.9,189.8 L 173.1,192.4\" style=\"fill:none;fill-rule:evenodd;stroke:#000000;stroke-width:2.0px;stroke-linecap:butt;stroke-linejoin:miter;stroke-opacity:1\"/>\n",
       "<path class=\"bond-41 atom-36 atom-37\" d=\"M 190.2,192.9 L 175.5,194.9\" style=\"fill:none;fill-rule:evenodd;stroke:#000000;stroke-width:2.0px;stroke-linecap:butt;stroke-linejoin:miter;stroke-opacity:1\"/>\n",
       "<path class=\"bond-42 atom-37 atom-38\" d=\"M 173.1,192.4 L 171.8,199.3\" style=\"fill:none;fill-rule:evenodd;stroke:#000000;stroke-width:2.0px;stroke-linecap:butt;stroke-linejoin:miter;stroke-opacity:1\"/>\n",
       "<path class=\"bond-42 atom-37 atom-38\" d=\"M 171.8,199.3 L 170.5,206.3\" style=\"fill:none;fill-rule:evenodd;stroke:#0000FF;stroke-width:2.0px;stroke-linecap:butt;stroke-linejoin:miter;stroke-opacity:1\"/>\n",
       "<path class=\"bond-43 atom-38 atom-39\" d=\"M 173.4,213.0 L 182.7,218.0\" style=\"fill:none;fill-rule:evenodd;stroke:#0000FF;stroke-width:2.0px;stroke-linecap:butt;stroke-linejoin:miter;stroke-opacity:1\"/>\n",
       "<path class=\"bond-44 atom-39 atom-40\" d=\"M 190.0,216.4 L 195.0,211.6\" style=\"fill:none;fill-rule:evenodd;stroke:#0000FF;stroke-width:2.0px;stroke-linecap:butt;stroke-linejoin:miter;stroke-opacity:1\"/>\n",
       "<path class=\"bond-44 atom-39 atom-40\" d=\"M 195.0,211.6 L 200.0,206.8\" style=\"fill:none;fill-rule:evenodd;stroke:#000000;stroke-width:2.0px;stroke-linecap:butt;stroke-linejoin:miter;stroke-opacity:1\"/>\n",
       "<path class=\"bond-44 atom-39 atom-40\" d=\"M 188.1,214.4 L 192.3,210.3\" style=\"fill:none;fill-rule:evenodd;stroke:#0000FF;stroke-width:2.0px;stroke-linecap:butt;stroke-linejoin:miter;stroke-opacity:1\"/>\n",
       "<path class=\"bond-44 atom-39 atom-40\" d=\"M 192.3,210.3 L 196.6,206.2\" style=\"fill:none;fill-rule:evenodd;stroke:#000000;stroke-width:2.0px;stroke-linecap:butt;stroke-linejoin:miter;stroke-opacity:1\"/>\n",
       "<path class=\"bond-45 atom-40 atom-41\" d=\"M 200.0,206.8 L 214.1,209.0\" style=\"fill:none;fill-rule:evenodd;stroke:#000000;stroke-width:2.0px;stroke-linecap:butt;stroke-linejoin:miter;stroke-opacity:1\"/>\n",
       "<path class=\"bond-46 atom-37 atom-42\" d=\"M 173.1,192.4 L 161.1,180.4\" style=\"fill:none;fill-rule:evenodd;stroke:#000000;stroke-width:2.0px;stroke-linecap:butt;stroke-linejoin:miter;stroke-opacity:1\"/>\n",
       "<path class=\"bond-47 atom-17 atom-43\" d=\"M 193.4,156.2 L 184.0,155.7\" style=\"fill:none;fill-rule:evenodd;stroke:#000000;stroke-width:2.0px;stroke-linecap:butt;stroke-linejoin:miter;stroke-opacity:1\"/>\n",
       "<path class=\"bond-47 atom-17 atom-43\" d=\"M 184.0,155.7 L 174.5,155.3\" style=\"fill:none;fill-rule:evenodd;stroke:#00CC00;stroke-width:2.0px;stroke-linecap:butt;stroke-linejoin:miter;stroke-opacity:1\"/>\n",
       "<path class=\"bond-48 atom-0 atom-44\" d=\"M 283.5,32.7 L 268.9,36.3\" style=\"fill:none;fill-rule:evenodd;stroke:#000000;stroke-width:2.0px;stroke-linecap:butt;stroke-linejoin:miter;stroke-opacity:1\"/>\n",
       "<path class=\"bond-49 atom-0 atom-45\" d=\"M 283.5,32.7 L 274.1,23.0\" style=\"fill:none;fill-rule:evenodd;stroke:#000000;stroke-width:2.0px;stroke-linecap:butt;stroke-linejoin:miter;stroke-opacity:1\"/>\n",
       "<path class=\"bond-50 atom-0 atom-46\" d=\"M 283.5,32.7 L 293.4,23.2\" style=\"fill:none;fill-rule:evenodd;stroke:#000000;stroke-width:2.0px;stroke-linecap:butt;stroke-linejoin:miter;stroke-opacity:1\"/>\n",
       "<path class=\"bond-51 atom-2 atom-47\" d=\"M 274.6,64.4 L 260.1,60.3\" style=\"fill:none;fill-rule:evenodd;stroke:#000000;stroke-width:2.0px;stroke-linecap:butt;stroke-linejoin:miter;stroke-opacity:1\"/>\n",
       "<path class=\"bond-52 atom-4 atom-48\" d=\"M 297.7,87.8 L 301.2,100.7\" style=\"fill:none;fill-rule:evenodd;stroke:#000000;stroke-width:2.0px;stroke-linecap:butt;stroke-linejoin:miter;stroke-opacity:1\"/>\n",
       "<path class=\"bond-53 atom-8 atom-49\" d=\"M 329.4,79.7 L 325.4,93.3\" style=\"fill:none;fill-rule:evenodd;stroke:#000000;stroke-width:2.0px;stroke-linecap:butt;stroke-linejoin:miter;stroke-opacity:1\"/>\n",
       "<path class=\"bond-54 atom-8 atom-50\" d=\"M 329.4,79.7 L 338.7,89.5\" style=\"fill:none;fill-rule:evenodd;stroke:#000000;stroke-width:2.0px;stroke-linecap:butt;stroke-linejoin:miter;stroke-opacity:1\"/>\n",
       "<path class=\"bond-55 atom-8 atom-51\" d=\"M 329.4,79.7 L 339.3,70.2\" style=\"fill:none;fill-rule:evenodd;stroke:#000000;stroke-width:2.0px;stroke-linecap:butt;stroke-linejoin:miter;stroke-opacity:1\"/>\n",
       "<path class=\"bond-56 atom-10 atom-52\" d=\"M 270.4,113.9 L 279.8,123.2\" style=\"fill:none;fill-rule:evenodd;stroke:#000000;stroke-width:2.0px;stroke-linecap:butt;stroke-linejoin:miter;stroke-opacity:1\"/>\n",
       "<path class=\"bond-57 atom-10 atom-53\" d=\"M 270.4,113.9 L 284.3,110.6\" style=\"fill:none;fill-rule:evenodd;stroke:#000000;stroke-width:2.0px;stroke-linecap:butt;stroke-linejoin:miter;stroke-opacity:1\"/>\n",
       "<path class=\"bond-58 atom-11 atom-54\" d=\"M 257.3,126.8 L 243.0,130.7\" style=\"fill:none;fill-rule:evenodd;stroke:#000000;stroke-width:2.0px;stroke-linecap:butt;stroke-linejoin:miter;stroke-opacity:1\"/>\n",
       "<path class=\"bond-59 atom-11 atom-55\" d=\"M 257.3,126.8 L 247.6,117.1\" style=\"fill:none;fill-rule:evenodd;stroke:#000000;stroke-width:2.0px;stroke-linecap:butt;stroke-linejoin:miter;stroke-opacity:1\"/>\n",
       "<path class=\"bond-60 atom-12 atom-56\" d=\"M 261.6,144.3 L 270.0,154.2\" style=\"fill:none;fill-rule:evenodd;stroke:#000000;stroke-width:2.0px;stroke-linecap:butt;stroke-linejoin:miter;stroke-opacity:1\"/>\n",
       "<path class=\"bond-61 atom-12 atom-57\" d=\"M 261.6,144.3 L 275.6,142.0\" style=\"fill:none;fill-rule:evenodd;stroke:#000000;stroke-width:2.0px;stroke-linecap:butt;stroke-linejoin:miter;stroke-opacity:1\"/>\n",
       "<path class=\"bond-62 atom-15 atom-58\" d=\"M 220.3,137.4 L 225.9,124.6\" style=\"fill:none;fill-rule:evenodd;stroke:#000000;stroke-width:2.0px;stroke-linecap:butt;stroke-linejoin:miter;stroke-opacity:1\"/>\n",
       "<path class=\"bond-63 atom-16 atom-59\" d=\"M 201.4,139.1 L 193.5,127.5\" style=\"fill:none;fill-rule:evenodd;stroke:#000000;stroke-width:2.0px;stroke-linecap:butt;stroke-linejoin:miter;stroke-opacity:1\"/>\n",
       "<path class=\"bond-64 atom-20 atom-60\" d=\"M 238.0,187.8 L 237.5,194.8\" style=\"fill:none;fill-rule:evenodd;stroke:#0000FF;stroke-width:2.0px;stroke-linecap:butt;stroke-linejoin:miter;stroke-opacity:1\"/>\n",
       "<path class=\"bond-64 atom-20 atom-60\" d=\"M 237.5,194.8 L 237.1,201.9\" style=\"fill:none;fill-rule:evenodd;stroke:#000000;stroke-width:2.0px;stroke-linecap:butt;stroke-linejoin:miter;stroke-opacity:1\"/>\n",
       "<path class=\"bond-65 atom-24 atom-61\" d=\"M 264.5,205.7 L 259.7,208.3\" style=\"fill:none;fill-rule:evenodd;stroke:#0000FF;stroke-width:2.0px;stroke-linecap:butt;stroke-linejoin:miter;stroke-opacity:1\"/>\n",
       "<path class=\"bond-65 atom-24 atom-61\" d=\"M 259.7,208.3 L 254.8,210.9\" style=\"fill:none;fill-rule:evenodd;stroke:#000000;stroke-width:2.0px;stroke-linecap:butt;stroke-linejoin:miter;stroke-opacity:1\"/>\n",
       "<path class=\"bond-66 atom-29 atom-62\" d=\"M 317.7,215.1 L 320.2,201.1\" style=\"fill:none;fill-rule:evenodd;stroke:#000000;stroke-width:2.0px;stroke-linecap:butt;stroke-linejoin:miter;stroke-opacity:1\"/>\n",
       "<path class=\"bond-67 atom-30 atom-63\" d=\"M 330.8,228.8 L 345.8,226.7\" style=\"fill:none;fill-rule:evenodd;stroke:#000000;stroke-width:2.0px;stroke-linecap:butt;stroke-linejoin:miter;stroke-opacity:1\"/>\n",
       "<path class=\"bond-68 atom-35 atom-64\" d=\"M 351.4,268.7 L 353.2,272.5\" style=\"fill:none;fill-rule:evenodd;stroke:#FF0000;stroke-width:2.0px;stroke-linecap:butt;stroke-linejoin:miter;stroke-opacity:1\"/>\n",
       "<path class=\"bond-68 atom-35 atom-64\" d=\"M 353.2,272.5 L 355.1,276.3\" style=\"fill:none;fill-rule:evenodd;stroke:#000000;stroke-width:2.0px;stroke-linecap:butt;stroke-linejoin:miter;stroke-opacity:1\"/>\n",
       "<path class=\"bond-69 atom-38 atom-65\" d=\"M 166.0,212.8 L 161.2,215.1\" style=\"fill:none;fill-rule:evenodd;stroke:#0000FF;stroke-width:2.0px;stroke-linecap:butt;stroke-linejoin:miter;stroke-opacity:1\"/>\n",
       "<path class=\"bond-69 atom-38 atom-65\" d=\"M 161.2,215.1 L 156.4,217.4\" style=\"fill:none;fill-rule:evenodd;stroke:#000000;stroke-width:2.0px;stroke-linecap:butt;stroke-linejoin:miter;stroke-opacity:1\"/>\n",
       "<path class=\"bond-70 atom-41 atom-66\" d=\"M 214.1,209.0 L 211.8,222.4\" style=\"fill:none;fill-rule:evenodd;stroke:#000000;stroke-width:2.0px;stroke-linecap:butt;stroke-linejoin:miter;stroke-opacity:1\"/>\n",
       "<path class=\"bond-71 atom-41 atom-67\" d=\"M 214.1,209.0 L 225.3,218.1\" style=\"fill:none;fill-rule:evenodd;stroke:#000000;stroke-width:2.0px;stroke-linecap:butt;stroke-linejoin:miter;stroke-opacity:1\"/>\n",
       "<path class=\"bond-72 atom-41 atom-68\" d=\"M 214.1,209.0 L 220.3,200.1\" style=\"fill:none;fill-rule:evenodd;stroke:#000000;stroke-width:2.0px;stroke-linecap:butt;stroke-linejoin:miter;stroke-opacity:1\"/>\n",
       "<path class=\"bond-73 atom-42 atom-69\" d=\"M 161.1,180.4 L 170.9,173.2\" style=\"fill:none;fill-rule:evenodd;stroke:#000000;stroke-width:2.0px;stroke-linecap:butt;stroke-linejoin:miter;stroke-opacity:1\"/>\n",
       "<path class=\"bond-74 atom-42 atom-70\" d=\"M 161.1,180.4 L 158.4,166.5\" style=\"fill:none;fill-rule:evenodd;stroke:#000000;stroke-width:2.0px;stroke-linecap:butt;stroke-linejoin:miter;stroke-opacity:1\"/>\n",
       "<path class=\"bond-75 atom-42 atom-71\" d=\"M 161.1,180.4 L 146.4,183.9\" style=\"fill:none;fill-rule:evenodd;stroke:#000000;stroke-width:2.0px;stroke-linecap:butt;stroke-linejoin:miter;stroke-opacity:1\"/>\n",
       "<path d=\"M 268.8,182.7 L 269.6,183.2 L 269.6,183.6\" style=\"fill:none;stroke:#000000;stroke-width:2.0px;stroke-linecap:butt;stroke-linejoin:miter;stroke-opacity:1;\"/>\n",
       "<path d=\"M 329.7,261.7 L 330.1,262.6 L 330.5,262.6\" style=\"fill:none;stroke:#000000;stroke-width:2.0px;stroke-linecap:butt;stroke-linejoin:miter;stroke-opacity:1;\"/>\n",
       "<path class=\"atom-7\" d=\"M 316.8 43.2 Q 316.8 41.2, 317.7 40.1 Q 318.7 39.1, 320.4 39.1 Q 322.1 39.1, 323.0 40.2 L 322.2 40.8 Q 321.6 40.0, 320.4 40.0 Q 319.2 40.0, 318.6 40.8 Q 317.9 41.6, 317.9 43.2 Q 317.9 44.8, 318.6 45.6 Q 319.3 46.4, 320.6 46.4 Q 321.5 46.4, 322.5 45.9 L 322.8 46.7 Q 322.4 47.0, 321.8 47.1 Q 321.1 47.3, 320.4 47.3 Q 318.7 47.3, 317.7 46.2 Q 316.8 45.2, 316.8 43.2 \" fill=\"#00CC00\"/>\n",
       "<path class=\"atom-7\" d=\"M 323.8 38.6 L 324.9 38.6 L 324.9 47.2 L 323.8 47.2 L 323.8 38.6 \" fill=\"#00CC00\"/>\n",
       "<path class=\"atom-9\" d=\"M 262.2 95.8 Q 262.2 93.9, 263.1 92.8 Q 264.1 91.7, 265.9 91.7 Q 267.7 91.7, 268.6 92.8 Q 269.6 93.9, 269.6 95.8 Q 269.6 97.8, 268.6 98.9 Q 267.6 100.0, 265.9 100.0 Q 264.1 100.0, 263.1 98.9 Q 262.2 97.8, 262.2 95.8 M 265.9 99.1 Q 267.1 99.1, 267.8 98.2 Q 268.4 97.4, 268.4 95.8 Q 268.4 94.2, 267.8 93.4 Q 267.1 92.6, 265.9 92.6 Q 264.6 92.6, 264.0 93.4 Q 263.3 94.2, 263.3 95.8 Q 263.3 97.4, 264.0 98.2 Q 264.6 99.1, 265.9 99.1 \" fill=\"#FF0000\"/>\n",
       "<path class=\"atom-20\" d=\"M 236.6 179.1 L 239.2 183.3 Q 239.5 183.8, 239.9 184.5 Q 240.3 185.3, 240.3 185.3 L 240.3 179.1 L 241.4 179.1 L 241.4 187.1 L 240.3 187.1 L 237.5 182.5 Q 237.1 181.9, 236.8 181.3 Q 236.4 180.7, 236.3 180.5 L 236.3 187.1 L 235.3 187.1 L 235.3 179.1 L 236.6 179.1 \" fill=\"#0000FF\"/>\n",
       "<path class=\"atom-23\" d=\"M 282.0 175.0 Q 282.0 173.0, 282.9 172.0 Q 283.9 170.9, 285.7 170.9 Q 287.5 170.9, 288.4 172.0 Q 289.4 173.0, 289.4 175.0 Q 289.4 176.9, 288.4 178.0 Q 287.4 179.1, 285.7 179.1 Q 283.9 179.1, 282.9 178.0 Q 282.0 176.9, 282.0 175.0 M 285.7 178.2 Q 286.9 178.2, 287.6 177.4 Q 288.2 176.6, 288.2 175.0 Q 288.2 173.4, 287.6 172.6 Q 286.9 171.8, 285.7 171.8 Q 284.4 171.8, 283.8 172.6 Q 283.1 173.4, 283.1 175.0 Q 283.1 176.6, 283.8 177.4 Q 284.4 178.2, 285.7 178.2 \" fill=\"#FF0000\"/>\n",
       "<path class=\"atom-24\" d=\"M 266.4 199.7 L 269.1 204.0 Q 269.3 204.4, 269.8 205.2 Q 270.2 206.0, 270.2 206.0 L 270.2 199.7 L 271.3 199.7 L 271.3 207.8 L 270.2 207.8 L 267.3 203.1 Q 267.0 202.6, 266.7 202.0 Q 266.3 201.3, 266.2 201.1 L 266.2 207.8 L 265.2 207.8 L 265.2 199.7 L 266.4 199.7 \" fill=\"#0000FF\"/>\n",
       "<path class=\"atom-25\" d=\"M 281.8 216.7 Q 281.9 216.8, 282.3 216.9 Q 282.7 217.1, 283.1 217.2 Q 283.5 217.3, 283.9 217.3 Q 284.7 217.3, 285.1 216.9 Q 285.6 216.5, 285.6 215.9 Q 285.6 215.4, 285.3 215.2 Q 285.1 214.9, 284.8 214.7 Q 284.4 214.6, 283.9 214.4 Q 283.2 214.2, 282.7 214.0 Q 282.3 213.8, 282.0 213.4 Q 281.7 212.9, 281.7 212.2 Q 281.7 211.2, 282.4 210.6 Q 283.1 209.9, 284.4 209.9 Q 285.4 209.9, 286.4 210.4 L 286.2 211.3 Q 285.2 210.9, 284.5 210.9 Q 283.7 210.9, 283.3 211.2 Q 282.8 211.5, 282.8 212.1 Q 282.8 212.5, 283.1 212.8 Q 283.3 213.0, 283.6 213.2 Q 283.9 213.3, 284.5 213.5 Q 285.2 213.7, 285.6 213.9 Q 286.1 214.2, 286.4 214.6 Q 286.7 215.1, 286.7 215.9 Q 286.7 217.0, 286.0 217.6 Q 285.2 218.2, 284.0 218.2 Q 283.3 218.2, 282.7 218.0 Q 282.2 217.9, 281.5 217.6 L 281.8 216.7 \" fill=\"#CCCC00\"/>\n",
       "<path class=\"atom-26\" d=\"M 270.7 230.4 Q 270.7 228.5, 271.7 227.4 Q 272.6 226.3, 274.4 226.3 Q 276.2 226.3, 277.1 227.4 Q 278.1 228.5, 278.1 230.4 Q 278.1 232.4, 277.1 233.5 Q 276.2 234.6, 274.4 234.6 Q 272.6 234.6, 271.7 233.5 Q 270.7 232.4, 270.7 230.4 M 274.4 233.7 Q 275.6 233.7, 276.3 232.9 Q 277.0 232.0, 277.0 230.4 Q 277.0 228.8, 276.3 228.0 Q 275.6 227.2, 274.4 227.2 Q 273.2 227.2, 272.5 228.0 Q 271.8 228.8, 271.8 230.4 Q 271.8 232.1, 272.5 232.9 Q 273.2 233.7, 274.4 233.7 \" fill=\"#FF0000\"/>\n",
       "<path class=\"atom-27\" d=\"M 289.9 197.8 Q 289.9 195.8, 290.9 194.7 Q 291.8 193.7, 293.6 193.7 Q 295.4 193.7, 296.4 194.7 Q 297.3 195.8, 297.3 197.8 Q 297.3 199.7, 296.4 200.8 Q 295.4 201.9, 293.6 201.9 Q 291.9 201.9, 290.9 200.8 Q 289.9 199.7, 289.9 197.8 M 293.6 201.0 Q 294.9 201.0, 295.5 200.2 Q 296.2 199.4, 296.2 197.8 Q 296.2 196.2, 295.5 195.4 Q 294.9 194.6, 293.6 194.6 Q 292.4 194.6, 291.7 195.4 Q 291.1 196.2, 291.1 197.8 Q 291.1 199.4, 291.7 200.2 Q 292.4 201.0, 293.6 201.0 \" fill=\"#FF0000\"/>\n",
       "<path class=\"atom-32\" d=\"M 299.5 242.2 Q 299.5 240.2, 300.5 239.1 Q 301.4 238.1, 303.2 238.1 Q 305.0 238.1, 305.9 239.1 Q 306.9 240.2, 306.9 242.2 Q 306.9 244.1, 305.9 245.2 Q 305.0 246.3, 303.2 246.3 Q 301.4 246.3, 300.5 245.2 Q 299.5 244.1, 299.5 242.2 M 303.2 245.4 Q 304.4 245.4, 305.1 244.6 Q 305.8 243.8, 305.8 242.2 Q 305.8 240.6, 305.1 239.8 Q 304.4 239.0, 303.2 239.0 Q 302.0 239.0, 301.3 239.8 Q 300.6 240.6, 300.6 242.2 Q 300.6 243.8, 301.3 244.6 Q 302.0 245.4, 303.2 245.4 \" fill=\"#FF0000\"/>\n",
       "<path class=\"atom-34\" d=\"M 315.8 278.3 Q 315.8 276.3, 316.8 275.3 Q 317.7 274.2, 319.5 274.2 Q 321.3 274.2, 322.3 275.3 Q 323.2 276.3, 323.2 278.3 Q 323.2 280.2, 322.2 281.3 Q 321.3 282.4, 319.5 282.4 Q 317.7 282.4, 316.8 281.3 Q 315.8 280.2, 315.8 278.3 M 319.5 281.5 Q 320.7 281.5, 321.4 280.7 Q 322.1 279.9, 322.1 278.3 Q 322.1 276.7, 321.4 275.9 Q 320.7 275.1, 319.5 275.1 Q 318.3 275.1, 317.6 275.9 Q 317.0 276.7, 317.0 278.3 Q 317.0 279.9, 317.6 280.7 Q 318.3 281.5, 319.5 281.5 \" fill=\"#FF0000\"/>\n",
       "<path class=\"atom-35\" d=\"M 345.4 263.9 Q 345.4 262.0, 346.3 260.9 Q 347.3 259.8, 349.1 259.8 Q 350.8 259.8, 351.8 260.9 Q 352.8 262.0, 352.8 263.9 Q 352.8 265.9, 351.8 267.0 Q 350.8 268.1, 349.1 268.1 Q 347.3 268.1, 346.3 267.0 Q 345.4 265.9, 345.4 263.9 M 349.1 267.2 Q 350.3 267.2, 351.0 266.4 Q 351.6 265.6, 351.6 263.9 Q 351.6 262.4, 351.0 261.6 Q 350.3 260.8, 349.1 260.8 Q 347.8 260.8, 347.2 261.5 Q 346.5 262.3, 346.5 263.9 Q 346.5 265.6, 347.2 266.4 Q 347.8 267.2, 349.1 267.2 \" fill=\"#FF0000\"/>\n",
       "<path class=\"atom-38\" d=\"M 167.9 206.9 L 170.6 211.2 Q 170.8 211.6, 171.2 212.4 Q 171.7 213.2, 171.7 213.2 L 171.7 206.9 L 172.8 206.9 L 172.8 215.0 L 171.7 215.0 L 168.8 210.3 Q 168.5 209.8, 168.1 209.2 Q 167.8 208.5, 167.7 208.3 L 167.7 215.0 L 166.7 215.0 L 166.7 206.9 L 167.9 206.9 \" fill=\"#0000FF\"/>\n",
       "<path class=\"atom-39\" d=\"M 184.6 215.9 L 187.2 220.2 Q 187.5 220.6, 187.9 221.4 Q 188.3 222.1, 188.3 222.2 L 188.3 215.9 L 189.4 215.9 L 189.4 224.0 L 188.3 224.0 L 185.5 219.3 Q 185.2 218.8, 184.8 218.1 Q 184.5 217.5, 184.4 217.3 L 184.4 224.0 L 183.3 224.0 L 183.3 215.9 L 184.6 215.9 \" fill=\"#0000FF\"/>\n",
       "<path class=\"atom-43\" d=\"M 165.8 155.5 Q 165.8 153.5, 166.7 152.4 Q 167.7 151.4, 169.4 151.4 Q 171.1 151.4, 172.0 152.5 L 171.2 153.2 Q 170.6 152.3, 169.4 152.3 Q 168.2 152.3, 167.6 153.1 Q 166.9 153.9, 166.9 155.5 Q 166.9 157.1, 167.6 157.9 Q 168.3 158.7, 169.6 158.7 Q 170.5 158.7, 171.5 158.2 L 171.8 159.0 Q 171.4 159.3, 170.8 159.5 Q 170.1 159.6, 169.4 159.6 Q 167.7 159.6, 166.7 158.6 Q 165.8 157.5, 165.8 155.5 \" fill=\"#00CC00\"/>\n",
       "<path class=\"atom-43\" d=\"M 172.8 150.9 L 173.9 150.9 L 173.9 159.5 L 172.8 159.5 L 172.8 150.9 \" fill=\"#00CC00\"/>\n",
       "<path class=\"atom-44\" d=\"M 261.9 33.2 L 263.0 33.2 L 263.0 36.6 L 267.1 36.6 L 267.1 33.2 L 268.2 33.2 L 268.2 41.3 L 267.1 41.3 L 267.1 37.6 L 263.0 37.6 L 263.0 41.3 L 261.9 41.3 L 261.9 33.2 \" fill=\"#000000\"/>\n",
       "<path class=\"atom-45\" d=\"M 267.2 15.0 L 268.3 15.0 L 268.3 18.4 L 272.4 18.4 L 272.4 15.0 L 273.5 15.0 L 273.5 23.1 L 272.4 23.1 L 272.4 19.3 L 268.3 19.3 L 268.3 23.1 L 267.2 23.1 L 267.2 15.0 \" fill=\"#000000\"/>\n",
       "<path class=\"atom-46\" d=\"M 294.0 15.5 L 295.1 15.5 L 295.1 19.0 L 299.2 19.0 L 299.2 15.5 L 300.3 15.5 L 300.3 23.6 L 299.2 23.6 L 299.2 19.9 L 295.1 19.9 L 295.1 23.6 L 294.0 23.6 L 294.0 15.5 \" fill=\"#000000\"/>\n",
       "<path class=\"atom-47\" d=\"M 253.1 55.3 L 254.2 55.3 L 254.2 58.7 L 258.4 58.7 L 258.4 55.3 L 259.4 55.3 L 259.4 63.3 L 258.4 63.3 L 258.4 59.6 L 254.2 59.6 L 254.2 63.3 L 253.1 63.3 L 253.1 55.3 \" fill=\"#000000\"/>\n",
       "<path class=\"atom-48\" d=\"M 299.4 101.3 L 300.5 101.3 L 300.5 104.7 L 304.6 104.7 L 304.6 101.3 L 305.7 101.3 L 305.7 109.4 L 304.6 109.4 L 304.6 105.7 L 300.5 105.7 L 300.5 109.4 L 299.4 109.4 L 299.4 101.3 \" fill=\"#000000\"/>\n",
       "<path class=\"atom-49\" d=\"M 320.9 93.9 L 322.0 93.9 L 322.0 97.4 L 326.1 97.4 L 326.1 93.9 L 327.2 93.9 L 327.2 102.0 L 326.1 102.0 L 326.1 98.3 L 322.0 98.3 L 322.0 102.0 L 320.9 102.0 L 320.9 93.9 \" fill=\"#000000\"/>\n",
       "<path class=\"atom-50\" d=\"M 339.3 89.4 L 340.4 89.4 L 340.4 92.8 L 344.5 92.8 L 344.5 89.4 L 345.6 89.4 L 345.6 97.5 L 344.5 97.5 L 344.5 93.7 L 340.4 93.7 L 340.4 97.5 L 339.3 97.5 L 339.3 89.4 \" fill=\"#000000\"/>\n",
       "<path class=\"atom-51\" d=\"M 339.9 62.6 L 341.0 62.6 L 341.0 66.0 L 345.1 66.0 L 345.1 62.6 L 346.2 62.6 L 346.2 70.6 L 345.1 70.6 L 345.1 66.9 L 341.0 66.9 L 341.0 70.6 L 339.9 70.6 L 339.9 62.6 \" fill=\"#000000\"/>\n",
       "<path class=\"atom-52\" d=\"M 280.4 122.9 L 281.5 122.9 L 281.5 126.3 L 285.6 126.3 L 285.6 122.9 L 286.7 122.9 L 286.7 130.9 L 285.6 130.9 L 285.6 127.2 L 281.5 127.2 L 281.5 130.9 L 280.4 130.9 L 280.4 122.9 \" fill=\"#000000\"/>\n",
       "<path class=\"atom-53\" d=\"M 284.9 105.7 L 286.0 105.7 L 286.0 109.1 L 290.1 109.1 L 290.1 105.7 L 291.2 105.7 L 291.2 113.8 L 290.1 113.8 L 290.1 110.1 L 286.0 110.1 L 286.0 113.8 L 284.9 113.8 L 284.9 105.7 \" fill=\"#000000\"/>\n",
       "<path class=\"atom-54\" d=\"M 236.1 127.7 L 237.2 127.7 L 237.2 131.2 L 241.3 131.2 L 241.3 127.7 L 242.4 127.7 L 242.4 135.8 L 241.3 135.8 L 241.3 132.1 L 237.2 132.1 L 237.2 135.8 L 236.1 135.8 L 236.1 127.7 \" fill=\"#000000\"/>\n",
       "<path class=\"atom-55\" d=\"M 240.6 109.4 L 241.7 109.4 L 241.7 112.8 L 245.9 112.8 L 245.9 109.4 L 247.0 109.4 L 247.0 117.4 L 245.9 117.4 L 245.9 113.7 L 241.7 113.7 L 241.7 117.4 L 240.6 117.4 L 240.6 109.4 \" fill=\"#000000\"/>\n",
       "<path class=\"atom-56\" d=\"M 270.6 154.7 L 271.7 154.7 L 271.7 158.1 L 275.8 158.1 L 275.8 154.7 L 276.9 154.7 L 276.9 162.8 L 275.8 162.8 L 275.8 159.0 L 271.7 159.0 L 271.7 162.8 L 270.6 162.8 L 270.6 154.7 \" fill=\"#000000\"/>\n",
       "<path class=\"atom-57\" d=\"M 276.2 137.4 L 277.3 137.4 L 277.3 140.8 L 281.4 140.8 L 281.4 137.4 L 282.5 137.4 L 282.5 145.5 L 281.4 145.5 L 281.4 141.7 L 277.3 141.7 L 277.3 145.5 L 276.2 145.5 L 276.2 137.4 \" fill=\"#000000\"/>\n",
       "<path class=\"atom-58\" d=\"M 224.7 115.9 L 225.8 115.9 L 225.8 119.4 L 229.9 119.4 L 229.9 115.9 L 231.0 115.9 L 231.0 124.0 L 229.9 124.0 L 229.9 120.3 L 225.8 120.3 L 225.8 124.0 L 224.7 124.0 L 224.7 115.9 \" fill=\"#000000\"/>\n",
       "<path class=\"atom-59\" d=\"M 187.2 118.8 L 188.3 118.8 L 188.3 122.3 L 192.4 122.3 L 192.4 118.8 L 193.5 118.8 L 193.5 126.9 L 192.4 126.9 L 192.4 123.2 L 188.3 123.2 L 188.3 126.9 L 187.2 126.9 L 187.2 118.8 \" fill=\"#000000\"/>\n",
       "<path class=\"atom-60\" d=\"M 233.6 202.5 L 234.7 202.5 L 234.7 205.9 L 238.8 205.9 L 238.8 202.5 L 239.9 202.5 L 239.9 210.6 L 238.8 210.6 L 238.8 206.9 L 234.7 206.9 L 234.7 210.6 L 233.6 210.6 L 233.6 202.5 \" fill=\"#000000\"/>\n",
       "<path class=\"atom-61\" d=\"M 247.9 208.9 L 249.0 208.9 L 249.0 212.3 L 253.1 212.3 L 253.1 208.9 L 254.2 208.9 L 254.2 216.9 L 253.1 216.9 L 253.1 213.2 L 249.0 213.2 L 249.0 216.9 L 247.9 216.9 L 247.9 208.9 \" fill=\"#000000\"/>\n",
       "<path class=\"atom-62\" d=\"M 317.9 192.4 L 319.0 192.4 L 319.0 195.9 L 323.1 195.9 L 323.1 192.4 L 324.2 192.4 L 324.2 200.5 L 323.1 200.5 L 323.1 196.8 L 319.0 196.8 L 319.0 200.5 L 317.9 200.5 L 317.9 192.4 \" fill=\"#000000\"/>\n",
       "<path class=\"atom-63\" d=\"M 346.5 222.1 L 347.5 222.1 L 347.5 225.6 L 351.7 225.6 L 351.7 222.1 L 352.8 222.1 L 352.8 230.2 L 351.7 230.2 L 351.7 226.5 L 347.5 226.5 L 347.5 230.2 L 346.5 230.2 L 346.5 222.1 \" fill=\"#000000\"/>\n",
       "<path class=\"atom-64\" d=\"M 354.2 276.9 L 355.3 276.9 L 355.3 280.4 L 359.4 280.4 L 359.4 276.9 L 360.5 276.9 L 360.5 285.0 L 359.4 285.0 L 359.4 281.3 L 355.3 281.3 L 355.3 285.0 L 354.2 285.0 L 354.2 276.9 \" fill=\"#000000\"/>\n",
       "<path class=\"atom-65\" d=\"M 149.5 215.2 L 150.6 215.2 L 150.6 218.7 L 154.7 218.7 L 154.7 215.2 L 155.8 215.2 L 155.8 223.3 L 154.7 223.3 L 154.7 219.6 L 150.6 219.6 L 150.6 223.3 L 149.5 223.3 L 149.5 215.2 \" fill=\"#000000\"/>\n",
       "<path class=\"atom-66\" d=\"M 207.8 223.1 L 208.9 223.1 L 208.9 226.5 L 213.0 226.5 L 213.0 223.1 L 214.1 223.1 L 214.1 231.1 L 213.0 231.1 L 213.0 227.4 L 208.9 227.4 L 208.9 231.1 L 207.8 231.1 L 207.8 223.1 \" fill=\"#000000\"/>\n",
       "<path class=\"atom-67\" d=\"M 225.9 217.2 L 227.0 217.2 L 227.0 220.6 L 231.1 220.6 L 231.1 217.2 L 232.2 217.2 L 232.2 225.3 L 231.1 225.3 L 231.1 221.6 L 227.0 221.6 L 227.0 225.3 L 225.9 225.3 L 225.9 217.2 \" fill=\"#000000\"/>\n",
       "<path class=\"atom-68\" d=\"M 220.3 191.5 L 221.4 191.5 L 221.4 194.9 L 225.5 194.9 L 225.5 191.5 L 226.6 191.5 L 226.6 199.5 L 225.5 199.5 L 225.5 195.8 L 221.4 195.8 L 221.4 199.5 L 220.3 199.5 L 220.3 191.5 \" fill=\"#000000\"/>\n",
       "<path class=\"atom-69\" d=\"M 171.5 166.4 L 172.6 166.4 L 172.6 169.8 L 176.7 169.8 L 176.7 166.4 L 177.8 166.4 L 177.8 174.4 L 176.7 174.4 L 176.7 170.7 L 172.6 170.7 L 172.6 174.4 L 171.5 174.4 L 171.5 166.4 \" fill=\"#000000\"/>\n",
       "<path class=\"atom-70\" d=\"M 154.4 157.8 L 155.5 157.8 L 155.5 161.2 L 159.6 161.2 L 159.6 157.8 L 160.7 157.8 L 160.7 165.8 L 159.6 165.8 L 159.6 162.1 L 155.5 162.1 L 155.5 165.8 L 154.4 165.8 L 154.4 157.8 \" fill=\"#000000\"/>\n",
       "<path class=\"atom-71\" d=\"M 139.5 180.7 L 140.6 180.7 L 140.6 184.2 L 144.7 184.2 L 144.7 180.7 L 145.8 180.7 L 145.8 188.8 L 144.7 188.8 L 144.7 185.1 L 140.6 185.1 L 140.6 188.8 L 139.5 188.8 L 139.5 180.7 \" fill=\"#000000\"/>\n",
       "</svg>"
      ],
      "text/plain": [
       "<IPython.core.display.SVG object>"
      ]
     },
     "metadata": {},
     "output_type": "display_data"
    }
   ],
   "source": [
    "ambertools_wrapper = AmberToolsToolkitWrapper()\n",
    "\n",
    "nagl_wrapper = NAGLToolkitWrapper()\n",
    "nagl_wrapper.assign_partial_charges(\n",
    "    Molecule.from_smiles(\"C\"),\n",
    "    \"openff-gnn-am1bcc-0.1.0-rc.3.pt\",\n",
    ")\n",
    "\n",
    "ligand_5x3 = Molecule.from_smiles(\n",
    "    \"Cc1cc(cc(c1Cl)C)OCCCc2c3ccc(c(c3[nH]c2C(=O)NS(=O)(=O)c4ccc(o4)C(=O)O)c5c([nH]nc5C)C)Cl\"\n",
    ")\n",
    "ligand_5x3"
   ]
  },
  {
   "cell_type": "code",
   "execution_count": null,
   "id": "3dfa146a-ebb5-47a2-a731-d69feffb139b",
   "metadata": {},
   "outputs": [],
   "source": [
    "# %%timeit\n",
    "# ambertools_wrapper.assign_partial_charges(ligand_5x3)\n",
    "#\n",
    "# 3min 20s ± 2 s per loop (mean ± std. dev. of 7 runs, 1 loop each)"
   ]
  },
  {
   "cell_type": "code",
   "execution_count": null,
   "id": "bf2ab0bb",
   "metadata": {
    "scrolled": true
   },
   "outputs": [],
   "source": [
    "%%timeit\n",
    "nagl_wrapper.assign_partial_charges(ligand_5x3, \"openff-gnn-am1bcc-0.1.0-rc.3.pt\");"
   ]
  },
  {
   "cell_type": "markdown",
   "id": "ab4ab21e",
   "metadata": {},
   "source": [
    "## Credits\n",
    "\n",
    "* Zachary Baker (OMSF)\n",
    "* Mallory Tollefson, Jennifer Wei, OpenFold team\n",
    "* Hugo MacDermott-Opeskin, Ryan Renslow, OpenADMET team\n",
    "* Irfan Alibay, Alyssa Travitz, OpenFE team\n",
    "* Jeff Wagner, Josh Mithell, OpenFF team"
   ]
  }
 ],
 "metadata": {
  "kernelspec": {
   "display_name": "Python 3 (ipykernel)",
   "language": "python",
   "name": "python3"
  },
  "language_info": {
   "codemirror_mode": {
    "name": "ipython",
    "version": 3
   },
   "file_extension": ".py",
   "mimetype": "text/x-python",
   "name": "python",
   "nbconvert_exporter": "python",
   "pygments_lexer": "ipython3",
   "version": "3.11.12"
  }
 },
 "nbformat": 4,
 "nbformat_minor": 5
}

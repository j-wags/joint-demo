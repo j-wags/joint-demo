{
 "cells": [
  {
   "cell_type": "markdown",
   "id": "993a8b8f-a8c6-4316-99bd-fd6921342a66",
   "metadata": {},
   "source": [
    "## Cool stuff you can do with OpenFF"
   ]
  },
  {
   "cell_type": "code",
   "execution_count": null,
   "id": "05c4361e-a5ec-41bf-a2d2-db8346f66202",
   "metadata": {},
   "outputs": [],
   "source": [
    "import nglview\n",
    "from openff.toolkit import ForceField, Molecule"
   ]
  },
  {
   "cell_type": "markdown",
   "id": "5af210c2-1b99-408b-a297-f373a4c6f188",
   "metadata": {},
   "source": [
    "### RDKit to MD simulation in seconds"
   ]
  },
  {
   "cell_type": "code",
   "execution_count": null,
   "id": "0045f48d-d63c-4359-80fe-a3945505c0f7",
   "metadata": {},
   "outputs": [],
   "source": [
    "from rdkit import Chem\n",
    "\n",
    "rdmol = Chem.MolFromMolFile(\"source/openff/aspirin.sdf\")\n",
    "print(Chem.MolToSmiles(rdmol))\n",
    "Chem.Draw.MolToImage(rdmol)"
   ]
  },
  {
   "cell_type": "code",
   "execution_count": null,
   "id": "2ec6bdc6-beab-4e5c-abe6-305a0e6b5e8d",
   "metadata": {},
   "outputs": [],
   "source": [
    "sage = ForceField(\"openff-2.2.1.offxml\")"
   ]
  },
  {
   "cell_type": "code",
   "execution_count": null,
   "id": "761e8633-4878-4f6f-8075-004438bb6aae",
   "metadata": {},
   "outputs": [],
   "source": [
    "sage.create_interchange(Molecule.from_rdkit(rdmol).to_topology()).visualize()"
   ]
  },
  {
   "cell_type": "code",
   "execution_count": null,
   "id": "9941dc03-3dd2-4003-9758-938c36f7b293",
   "metadata": {
    "scrolled": true
   },
   "outputs": [],
   "source": [
    "def simulate_and_visualize(\n",
    "    rdmol: Chem.Mol,\n",
    "    force_field: ForceField,\n",
    ") -> \"nglview.NGLWidget\":\n",
    "    import mdtraj\n",
    "    import openmm\n",
    "    import openmm.unit\n",
    "\n",
    "    interchange = force_field.create_interchange(\n",
    "        Molecule.from_rdkit(rdmol).to_topology(),\n",
    "    )\n",
    "\n",
    "    integrator = openmm.LangevinMiddleIntegrator(\n",
    "        300 * openmm.unit.kelvin,\n",
    "        1 / openmm.unit.picosecond,\n",
    "        0.002 * openmm.unit.picoseconds,\n",
    "    )\n",
    "\n",
    "    simulation = interchange.to_openmm_simulation(integrator)\n",
    "\n",
    "    # OpenMM setup boilerplate\n",
    "    simulation.minimizeEnergy(tolerance=100)\n",
    "    dcd_reporter = openmm.app.DCDReporter(file=\"trajectory.dcd\", reportInterval=10)\n",
    "    simulation.reporters.append(dcd_reporter)\n",
    "    simulation.step(10000)\n",
    "    # Visualize the trajectory\n",
    "    trajectory: mdtraj.Trajectory = mdtraj.load(\n",
    "        \"trajectory.dcd\",\n",
    "        top=mdtraj.Topology.from_openmm(interchange.topology.to_openmm()),\n",
    "    )\n",
    "    view = nglview.show_mdtraj(trajectory)\n",
    "    view.add_representation(\"line\", selection=\"protein\")\n",
    "    view.add_line(selection=\"water\")\n",
    "\n",
    "    return view\n",
    "\n",
    "\n",
    "simulate_and_visualize(rdmol, sage)"
   ]
  },
  {
   "cell_type": "code",
   "execution_count": null,
   "id": "b9e0ed97-1646-4ed6-bd4a-9a08c32c8b93",
   "metadata": {},
   "outputs": [],
   "source": [
    "## Run protein-ligand simulations with Sage + X"
   ]
  },
  {
   "cell_type": "code",
   "execution_count": null,
   "id": "fddde3f1-a58a-451b-ac9f-7edb29895f7f",
   "metadata": {},
   "outputs": [],
   "source": [
    "## Simulation post-translational modifications"
   ]
  },
  {
   "cell_type": "code",
   "execution_count": null,
   "id": "e54c46b5-5800-476b-b3db-1e7cdf473e68",
   "metadata": {},
   "outputs": [],
   "source": [
    "## Rapidly assign partial charges to entire polymers"
   ]
  },
  {
   "cell_type": "code",
   "execution_count": null,
   "id": "6a6e30a7-2617-4b6a-99d9-189d7207d548",
   "metadata": {},
   "outputs": [],
   "source": [
    "## Cool stuff you can do with OpenFE"
   ]
  },
  {
   "cell_type": "code",
   "execution_count": null,
   "id": "29e6f412-015f-4eb3-a5e3-523c54f56a06",
   "metadata": {},
   "outputs": [],
   "source": [
    "## Cool stuff you can do with OpenADMET"
   ]
  }
 ],
 "metadata": {
  "kernelspec": {
   "display_name": "Python 3 (ipykernel)",
   "language": "python",
   "name": "python3"
  },
  "language_info": {
   "codemirror_mode": {
    "name": "ipython",
    "version": 3
   },
   "file_extension": ".py",
   "mimetype": "text/x-python",
   "name": "python",
   "nbconvert_exporter": "python",
   "pygments_lexer": "ipython3",
   "version": "3.12.10"
  }
 },
 "nbformat": 4,
 "nbformat_minor": 5
}
